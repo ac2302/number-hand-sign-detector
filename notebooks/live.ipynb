{
 "cells": [
  {
   "cell_type": "markdown",
   "id": "591df356-e82e-4d0a-b9a5-6b4be3e14d09",
   "metadata": {},
   "source": [
    "# loading pickled model"
   ]
  },
  {
   "cell_type": "code",
   "execution_count": 1,
   "id": "8ded3fef-c5a8-4327-98c6-aac2b4489933",
   "metadata": {},
   "outputs": [],
   "source": [
    "import pickle"
   ]
  },
  {
   "cell_type": "code",
   "execution_count": 2,
   "id": "c514b274-03f4-416c-867c-de79b942deb6",
   "metadata": {},
   "outputs": [],
   "source": [
    "with open('trained-model.pkl', 'rb') as f:\n",
    "    model = pickle.load(f)"
   ]
  },
  {
   "cell_type": "code",
   "execution_count": 3,
   "id": "fa1d0751-a2ee-4b8f-a68a-e8071a74d425",
   "metadata": {},
   "outputs": [
    {
     "data": {
      "text/plain": [
       "Pipeline(steps=[('standardscaler', StandardScaler()),\n",
       "                ('randomforestclassifier', RandomForestClassifier())])"
      ]
     },
     "execution_count": 3,
     "metadata": {},
     "output_type": "execute_result"
    }
   ],
   "source": [
    "model"
   ]
  },
  {
   "cell_type": "markdown",
   "id": "a6a4deda-5f1e-497d-8ba7-fe9dc8a13116",
   "metadata": {},
   "source": [
    "# live demo"
   ]
  },
  {
   "cell_type": "code",
   "execution_count": 4,
   "id": "c385779f-a6fe-4455-bff7-9901da4f3d9f",
   "metadata": {},
   "outputs": [],
   "source": [
    "import mediapipe as mp\n",
    "import cv2\n",
    "import pandas as pd\n",
    "import numpy as np"
   ]
  },
  {
   "cell_type": "code",
   "execution_count": 5,
   "id": "4fbece04-2857-41ab-a028-e9128adb815c",
   "metadata": {},
   "outputs": [],
   "source": [
    "mp_drawing = mp.solutions.drawing_utils\n",
    "mp_hands = mp.solutions.hands\n",
    "drawing_styles = mp.solutions.drawing_styles"
   ]
  },
  {
   "cell_type": "code",
   "execution_count": null,
   "id": "0869c588-2acc-4e76-8852-dae8da7937a0",
   "metadata": {},
   "outputs": [],
   "source": [
    "cap = cv2.VideoCapture(0)\n",
    "with mp_hands.Hands(\n",
    "        min_detection_confidence=0.5,\n",
    "        min_tracking_confidence=0.5) as hands:\n",
    "    while cap.isOpened():\n",
    "        success, image = cap.read()\n",
    "        if not success:\n",
    "            print(\"Ignoring empty camera frame.\")\n",
    "            # If loading a video, use 'break' instead of 'continue'.\n",
    "            continue\n",
    "\n",
    "        # Flip the image horizontally for a later selfie-view display, and convert\n",
    "        # the BGR image to RGB.\n",
    "        image = cv2.cvtColor(cv2.flip(image, 1), cv2.COLOR_BGR2RGB)\n",
    "        # To improve performance, optionally mark the image as not writeable to\n",
    "        # pass by reference.\n",
    "        image.flags.writeable = False\n",
    "        results = hands.process(image)\n",
    "\n",
    "        # Draw the hand annotations on the image.\n",
    "        image.flags.writeable = True\n",
    "        image = cv2.cvtColor(image, cv2.COLOR_RGB2BGR)\n",
    "        if results.multi_hand_landmarks:\n",
    "            hand_landmarks = results.multi_hand_landmarks[0]\n",
    "            mp_drawing.draw_landmarks(\n",
    "                image, hand_landmarks, mp_hands.HAND_CONNECTIONS)\n",
    "            \n",
    "            # making prediction\n",
    "            coords = np.array([[i.x, i.y, i.z] for i in results.multi_hand_landmarks[0].landmark]).flatten()\n",
    "            X = pd.DataFrame([coords])\n",
    "            prediction = model.predict(X)[0]\n",
    "            prediction_proba = model.predict_proba(X)[0]\n",
    "            \n",
    "            cv2.rectangle(image,\n",
    "                          (10, 30 - 30), \n",
    "                          (10+len(str(prediction))*20, 30), \n",
    "                          (0, 0, 0), -1)\n",
    "            cv2.putText(image, str(prediction), (10, 30), cv2.FONT_HERSHEY_PLAIN, 2, (0, 0, 255), 2, cv2.LINE_4)\n",
    "            \n",
    "        cv2.imshow('MediaPipe Hands', image)\n",
    "        if cv2.waitKey(10) & 0xFF == ord('q'):\n",
    "            break\n",
    "cap.release()\n",
    "cv2.destroyAllWindows()\n"
   ]
  },
  {
   "cell_type": "code",
   "execution_count": 7,
   "id": "ea329ffa-576c-4d5b-ab7d-4d9af8146cb1",
   "metadata": {},
   "outputs": [],
   "source": [
    "cap.release()"
   ]
  }
 ],
 "metadata": {
  "kernelspec": {
   "display_name": "Python 3",
   "language": "python",
   "name": "python3"
  },
  "language_info": {
   "codemirror_mode": {
    "name": "ipython",
    "version": 3
   },
   "file_extension": ".py",
   "mimetype": "text/x-python",
   "name": "python",
   "nbconvert_exporter": "python",
   "pygments_lexer": "ipython3",
   "version": "3.9.6"
  }
 },
 "nbformat": 4,
 "nbformat_minor": 5
}
