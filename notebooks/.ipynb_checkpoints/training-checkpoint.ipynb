{
 "cells": [
  {
   "cell_type": "code",
   "execution_count": 34,
   "id": "53a90311-cca1-49de-b2d1-1099f637f042",
   "metadata": {},
   "outputs": [],
   "source": [
    "import os.path"
   ]
  },
  {
   "cell_type": "markdown",
   "id": "8586ac63-e49e-4022-bed8-30f642a9e332",
   "metadata": {},
   "source": [
    "# combining csv files and writing combined file"
   ]
  },
  {
   "cell_type": "code",
   "execution_count": 35,
   "id": "7b45923e-a47a-463b-9901-094278fa1923",
   "metadata": {},
   "outputs": [],
   "source": [
    "csv_files = [\n",
    "    os.path.join('data', '1-right.csv'),\n",
    "    os.path.join('data', '2-right.csv'),\n",
    "    os.path.join('data', '3-right.csv'),\n",
    "    os.path.join('data', '4-right.csv'),\n",
    "    os.path.join('data', '5-right.csv'),\n",
    "]"
   ]
  },
  {
   "cell_type": "code",
   "execution_count": 36,
   "id": "70d8000e-5207-4ac3-b637-d39b6bdcc8fd",
   "metadata": {},
   "outputs": [],
   "source": [
    "with open(csv_files[0], 'r') as f:\n",
    "    csv_header = f.readline()"
   ]
  },
  {
   "cell_type": "code",
   "execution_count": 37,
   "id": "231bf75f-5eef-4057-b046-fcbf972fdf65",
   "metadata": {},
   "outputs": [],
   "source": [
    "content = []"
   ]
  },
  {
   "cell_type": "code",
   "execution_count": 38,
   "id": "52ce86f1-1b50-43bd-95ab-35f53b095cc6",
   "metadata": {},
   "outputs": [],
   "source": [
    "for csv_file in csv_files:\n",
    "    with open(csv_file, 'r') as f:\n",
    "        lines = f.readlines()\n",
    "        if lines[0] != csv_header:\n",
    "            raise ValueError('csv headers don\\'t match')\n",
    "        else:\n",
    "            content += lines[1:]"
   ]
  },
  {
   "cell_type": "code",
   "execution_count": 39,
   "id": "13b370d7-b77c-4cee-84ee-e93be58ba5b0",
   "metadata": {},
   "outputs": [
    {
     "data": {
      "text/plain": [
       "1166"
      ]
     },
     "execution_count": 39,
     "metadata": {},
     "output_type": "execute_result"
    }
   ],
   "source": [
    "len(content)"
   ]
  },
  {
   "cell_type": "code",
   "execution_count": 40,
   "id": "ab74a97d-07c1-4dc8-b662-4868c2f3d5d1",
   "metadata": {},
   "outputs": [],
   "source": [
    "content.insert(0, csv_header)"
   ]
  },
  {
   "cell_type": "code",
   "execution_count": 44,
   "id": "17e07e89-4587-4266-8eee-3dadfb2bfe82",
   "metadata": {},
   "outputs": [],
   "source": [
    "# saving combined csv\n",
    "with open('combined-data.csv', 'w') as f:\n",
    "    print(''.join(content), end='', file=f)"
   ]
  },
  {
   "cell_type": "code",
   "execution_count": null,
   "id": "f9a5f30c-8c7b-4e5f-bdd5-2e1813fd115f",
   "metadata": {},
   "outputs": [],
   "source": []
  }
 ],
 "metadata": {
  "kernelspec": {
   "display_name": "Python 3",
   "language": "python",
   "name": "python3"
  },
  "language_info": {
   "codemirror_mode": {
    "name": "ipython",
    "version": 3
   },
   "file_extension": ".py",
   "mimetype": "text/x-python",
   "name": "python",
   "nbconvert_exporter": "python",
   "pygments_lexer": "ipython3",
   "version": "3.9.6"
  }
 },
 "nbformat": 4,
 "nbformat_minor": 5
}
