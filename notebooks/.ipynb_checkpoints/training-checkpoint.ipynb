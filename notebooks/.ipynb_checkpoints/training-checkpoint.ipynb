{
 "cells": [
  {
   "cell_type": "code",
   "execution_count": 1,
   "id": "53a90311-cca1-49de-b2d1-1099f637f042",
   "metadata": {},
   "outputs": [],
   "source": [
    "import os.path"
   ]
  },
  {
   "cell_type": "markdown",
   "id": "8586ac63-e49e-4022-bed8-30f642a9e332",
   "metadata": {},
   "source": [
    "# combining csv files and writing combined file"
   ]
  },
  {
   "cell_type": "code",
   "execution_count": 2,
   "id": "7b45923e-a47a-463b-9901-094278fa1923",
   "metadata": {},
   "outputs": [],
   "source": [
    "csv_files = [\n",
    "    os.path.join('data', '1-right.csv'),\n",
    "    os.path.join('data', '2-right.csv'),\n",
    "    os.path.join('data', '3-right.csv'),\n",
    "    os.path.join('data', '4-right.csv'),\n",
    "    os.path.join('data', '5-right.csv'),\n",
    "]"
   ]
  },
  {
   "cell_type": "code",
   "execution_count": 3,
   "id": "70d8000e-5207-4ac3-b637-d39b6bdcc8fd",
   "metadata": {},
   "outputs": [],
   "source": [
    "with open(csv_files[0], 'r') as f:\n",
    "    csv_header = f.readline()"
   ]
  },
  {
   "cell_type": "code",
   "execution_count": 4,
   "id": "231bf75f-5eef-4057-b046-fcbf972fdf65",
   "metadata": {},
   "outputs": [],
   "source": [
    "content = []"
   ]
  },
  {
   "cell_type": "code",
   "execution_count": 5,
   "id": "52ce86f1-1b50-43bd-95ab-35f53b095cc6",
   "metadata": {},
   "outputs": [],
   "source": [
    "for csv_file in csv_files:\n",
    "    with open(csv_file, 'r') as f:\n",
    "        lines = f.readlines()\n",
    "        if lines[0] != csv_header:\n",
    "            raise ValueError('csv headers don\\'t match')\n",
    "        else:\n",
    "            content += lines[1:]"
   ]
  },
  {
   "cell_type": "code",
   "execution_count": 6,
   "id": "13b370d7-b77c-4cee-84ee-e93be58ba5b0",
   "metadata": {},
   "outputs": [
    {
     "data": {
      "text/plain": [
       "1166"
      ]
     },
     "execution_count": 6,
     "metadata": {},
     "output_type": "execute_result"
    }
   ],
   "source": [
    "len(content)"
   ]
  },
  {
   "cell_type": "code",
   "execution_count": 7,
   "id": "ab74a97d-07c1-4dc8-b662-4868c2f3d5d1",
   "metadata": {},
   "outputs": [],
   "source": [
    "content.insert(0, csv_header)"
   ]
  },
  {
   "cell_type": "code",
   "execution_count": 8,
   "id": "17e07e89-4587-4266-8eee-3dadfb2bfe82",
   "metadata": {},
   "outputs": [],
   "source": [
    "# saving combined csv\n",
    "with open('combined-data.csv', 'w') as f:\n",
    "    print(''.join(content), end='', file=f)"
   ]
  },
  {
   "cell_type": "markdown",
   "id": "e64f2415-abb9-4dc0-aa8f-ba532ad13d20",
   "metadata": {},
   "source": [
    "# reading data from csv and preparing it"
   ]
  },
  {
   "cell_type": "code",
   "execution_count": 9,
   "id": "dcdabe50-4fed-4067-a1eb-5b30a96a2591",
   "metadata": {},
   "outputs": [],
   "source": [
    "import pandas as pd\n",
    "from sklearn.model_selection import train_test_split"
   ]
  },
  {
   "cell_type": "code",
   "execution_count": 10,
   "id": "2ccb85d4-9721-4fe9-88f6-daccea56e087",
   "metadata": {},
   "outputs": [],
   "source": [
    "df = pd.read_csv('combined-data.csv')"
   ]
  },
  {
   "cell_type": "code",
   "execution_count": 11,
   "id": "aed51594-7c9e-4d78-9373-a463671ecff2",
   "metadata": {},
   "outputs": [
    {
     "data": {
      "text/html": [
       "<div>\n",
       "<style scoped>\n",
       "    .dataframe tbody tr th:only-of-type {\n",
       "        vertical-align: middle;\n",
       "    }\n",
       "\n",
       "    .dataframe tbody tr th {\n",
       "        vertical-align: top;\n",
       "    }\n",
       "\n",
       "    .dataframe thead th {\n",
       "        text-align: right;\n",
       "    }\n",
       "</style>\n",
       "<table border=\"1\" class=\"dataframe\">\n",
       "  <thead>\n",
       "    <tr style=\"text-align: right;\">\n",
       "      <th></th>\n",
       "      <th>number</th>\n",
       "      <th>v0</th>\n",
       "      <th>v1</th>\n",
       "      <th>v2</th>\n",
       "      <th>v3</th>\n",
       "      <th>v4</th>\n",
       "      <th>v5</th>\n",
       "      <th>v6</th>\n",
       "      <th>v7</th>\n",
       "      <th>v8</th>\n",
       "      <th>...</th>\n",
       "      <th>v53</th>\n",
       "      <th>v54</th>\n",
       "      <th>v55</th>\n",
       "      <th>v56</th>\n",
       "      <th>v57</th>\n",
       "      <th>v58</th>\n",
       "      <th>v59</th>\n",
       "      <th>v60</th>\n",
       "      <th>v61</th>\n",
       "      <th>v62</th>\n",
       "    </tr>\n",
       "  </thead>\n",
       "  <tbody>\n",
       "    <tr>\n",
       "      <th>0</th>\n",
       "      <td>1</td>\n",
       "      <td>0.459556</td>\n",
       "      <td>1.068004</td>\n",
       "      <td>-0.000023</td>\n",
       "      <td>0.404865</td>\n",
       "      <td>0.988291</td>\n",
       "      <td>0.021323</td>\n",
       "      <td>0.386485</td>\n",
       "      <td>0.904044</td>\n",
       "      <td>0.013519</td>\n",
       "      <td>...</td>\n",
       "      <td>-0.092794</td>\n",
       "      <td>0.537547</td>\n",
       "      <td>0.846286</td>\n",
       "      <td>-0.079927</td>\n",
       "      <td>0.523416</td>\n",
       "      <td>0.877155</td>\n",
       "      <td>-0.060446</td>\n",
       "      <td>0.514705</td>\n",
       "      <td>0.915527</td>\n",
       "      <td>-0.059300</td>\n",
       "    </tr>\n",
       "    <tr>\n",
       "      <th>1</th>\n",
       "      <td>1</td>\n",
       "      <td>0.514210</td>\n",
       "      <td>1.035730</td>\n",
       "      <td>0.000031</td>\n",
       "      <td>0.446691</td>\n",
       "      <td>0.937000</td>\n",
       "      <td>0.016114</td>\n",
       "      <td>0.420571</td>\n",
       "      <td>0.842098</td>\n",
       "      <td>0.017736</td>\n",
       "      <td>...</td>\n",
       "      <td>-0.035976</td>\n",
       "      <td>0.555677</td>\n",
       "      <td>0.774057</td>\n",
       "      <td>-0.036686</td>\n",
       "      <td>0.539824</td>\n",
       "      <td>0.806357</td>\n",
       "      <td>-0.041776</td>\n",
       "      <td>0.534274</td>\n",
       "      <td>0.844050</td>\n",
       "      <td>-0.050918</td>\n",
       "    </tr>\n",
       "    <tr>\n",
       "      <th>2</th>\n",
       "      <td>1</td>\n",
       "      <td>0.631706</td>\n",
       "      <td>0.915632</td>\n",
       "      <td>0.000013</td>\n",
       "      <td>0.559298</td>\n",
       "      <td>0.834830</td>\n",
       "      <td>-0.007613</td>\n",
       "      <td>0.515313</td>\n",
       "      <td>0.744087</td>\n",
       "      <td>-0.017699</td>\n",
       "      <td>...</td>\n",
       "      <td>-0.042729</td>\n",
       "      <td>0.670636</td>\n",
       "      <td>0.670955</td>\n",
       "      <td>-0.074938</td>\n",
       "      <td>0.641264</td>\n",
       "      <td>0.701070</td>\n",
       "      <td>-0.101158</td>\n",
       "      <td>0.626095</td>\n",
       "      <td>0.737828</td>\n",
       "      <td>-0.113989</td>\n",
       "    </tr>\n",
       "    <tr>\n",
       "      <th>3</th>\n",
       "      <td>1</td>\n",
       "      <td>0.644954</td>\n",
       "      <td>0.898782</td>\n",
       "      <td>-0.000032</td>\n",
       "      <td>0.572989</td>\n",
       "      <td>0.795587</td>\n",
       "      <td>-0.007245</td>\n",
       "      <td>0.550288</td>\n",
       "      <td>0.704822</td>\n",
       "      <td>-0.009594</td>\n",
       "      <td>...</td>\n",
       "      <td>-0.007517</td>\n",
       "      <td>0.709739</td>\n",
       "      <td>0.665345</td>\n",
       "      <td>-0.030206</td>\n",
       "      <td>0.689190</td>\n",
       "      <td>0.686612</td>\n",
       "      <td>-0.045460</td>\n",
       "      <td>0.676137</td>\n",
       "      <td>0.717414</td>\n",
       "      <td>-0.051320</td>\n",
       "    </tr>\n",
       "    <tr>\n",
       "      <th>4</th>\n",
       "      <td>1</td>\n",
       "      <td>0.687299</td>\n",
       "      <td>0.861615</td>\n",
       "      <td>-0.000038</td>\n",
       "      <td>0.620114</td>\n",
       "      <td>0.773832</td>\n",
       "      <td>-0.009120</td>\n",
       "      <td>0.590263</td>\n",
       "      <td>0.693418</td>\n",
       "      <td>-0.017644</td>\n",
       "      <td>...</td>\n",
       "      <td>-0.023523</td>\n",
       "      <td>0.730394</td>\n",
       "      <td>0.639077</td>\n",
       "      <td>-0.048310</td>\n",
       "      <td>0.715270</td>\n",
       "      <td>0.682701</td>\n",
       "      <td>-0.056428</td>\n",
       "      <td>0.709047</td>\n",
       "      <td>0.709845</td>\n",
       "      <td>-0.051895</td>\n",
       "    </tr>\n",
       "    <tr>\n",
       "      <th>...</th>\n",
       "      <td>...</td>\n",
       "      <td>...</td>\n",
       "      <td>...</td>\n",
       "      <td>...</td>\n",
       "      <td>...</td>\n",
       "      <td>...</td>\n",
       "      <td>...</td>\n",
       "      <td>...</td>\n",
       "      <td>...</td>\n",
       "      <td>...</td>\n",
       "      <td>...</td>\n",
       "      <td>...</td>\n",
       "      <td>...</td>\n",
       "      <td>...</td>\n",
       "      <td>...</td>\n",
       "      <td>...</td>\n",
       "      <td>...</td>\n",
       "      <td>...</td>\n",
       "      <td>...</td>\n",
       "      <td>...</td>\n",
       "      <td>...</td>\n",
       "    </tr>\n",
       "    <tr>\n",
       "      <th>1161</th>\n",
       "      <td>5</td>\n",
       "      <td>0.543384</td>\n",
       "      <td>0.697984</td>\n",
       "      <td>-0.000023</td>\n",
       "      <td>0.484875</td>\n",
       "      <td>0.667651</td>\n",
       "      <td>-0.045035</td>\n",
       "      <td>0.435403</td>\n",
       "      <td>0.606591</td>\n",
       "      <td>-0.068764</td>\n",
       "      <td>...</td>\n",
       "      <td>-0.083742</td>\n",
       "      <td>0.643759</td>\n",
       "      <td>0.500102</td>\n",
       "      <td>-0.111502</td>\n",
       "      <td>0.673980</td>\n",
       "      <td>0.477447</td>\n",
       "      <td>-0.138931</td>\n",
       "      <td>0.702728</td>\n",
       "      <td>0.449528</td>\n",
       "      <td>-0.162217</td>\n",
       "    </tr>\n",
       "    <tr>\n",
       "      <th>1162</th>\n",
       "      <td>5</td>\n",
       "      <td>0.539552</td>\n",
       "      <td>0.697464</td>\n",
       "      <td>-0.000043</td>\n",
       "      <td>0.479525</td>\n",
       "      <td>0.668351</td>\n",
       "      <td>-0.045204</td>\n",
       "      <td>0.429955</td>\n",
       "      <td>0.611073</td>\n",
       "      <td>-0.068713</td>\n",
       "      <td>...</td>\n",
       "      <td>-0.074027</td>\n",
       "      <td>0.635535</td>\n",
       "      <td>0.498001</td>\n",
       "      <td>-0.101778</td>\n",
       "      <td>0.663637</td>\n",
       "      <td>0.472552</td>\n",
       "      <td>-0.130003</td>\n",
       "      <td>0.690142</td>\n",
       "      <td>0.442413</td>\n",
       "      <td>-0.152455</td>\n",
       "    </tr>\n",
       "    <tr>\n",
       "      <th>1163</th>\n",
       "      <td>5</td>\n",
       "      <td>0.540279</td>\n",
       "      <td>0.694836</td>\n",
       "      <td>-0.000019</td>\n",
       "      <td>0.479537</td>\n",
       "      <td>0.666893</td>\n",
       "      <td>-0.042827</td>\n",
       "      <td>0.428672</td>\n",
       "      <td>0.608975</td>\n",
       "      <td>-0.061878</td>\n",
       "      <td>...</td>\n",
       "      <td>-0.057261</td>\n",
       "      <td>0.629776</td>\n",
       "      <td>0.485303</td>\n",
       "      <td>-0.082247</td>\n",
       "      <td>0.656825</td>\n",
       "      <td>0.459002</td>\n",
       "      <td>-0.108845</td>\n",
       "      <td>0.682912</td>\n",
       "      <td>0.428398</td>\n",
       "      <td>-0.129342</td>\n",
       "    </tr>\n",
       "    <tr>\n",
       "      <th>1164</th>\n",
       "      <td>5</td>\n",
       "      <td>0.536842</td>\n",
       "      <td>0.692231</td>\n",
       "      <td>-0.000039</td>\n",
       "      <td>0.476965</td>\n",
       "      <td>0.667322</td>\n",
       "      <td>-0.041909</td>\n",
       "      <td>0.425245</td>\n",
       "      <td>0.611663</td>\n",
       "      <td>-0.059864</td>\n",
       "      <td>...</td>\n",
       "      <td>-0.054448</td>\n",
       "      <td>0.621683</td>\n",
       "      <td>0.481183</td>\n",
       "      <td>-0.078393</td>\n",
       "      <td>0.646523</td>\n",
       "      <td>0.454400</td>\n",
       "      <td>-0.103199</td>\n",
       "      <td>0.670804</td>\n",
       "      <td>0.423767</td>\n",
       "      <td>-0.122771</td>\n",
       "    </tr>\n",
       "    <tr>\n",
       "      <th>1165</th>\n",
       "      <td>5</td>\n",
       "      <td>0.538242</td>\n",
       "      <td>0.686737</td>\n",
       "      <td>-0.000021</td>\n",
       "      <td>0.477807</td>\n",
       "      <td>0.661729</td>\n",
       "      <td>-0.045106</td>\n",
       "      <td>0.425455</td>\n",
       "      <td>0.604426</td>\n",
       "      <td>-0.064009</td>\n",
       "      <td>...</td>\n",
       "      <td>-0.060483</td>\n",
       "      <td>0.620516</td>\n",
       "      <td>0.475465</td>\n",
       "      <td>-0.087899</td>\n",
       "      <td>0.646627</td>\n",
       "      <td>0.447680</td>\n",
       "      <td>-0.114893</td>\n",
       "      <td>0.671950</td>\n",
       "      <td>0.414728</td>\n",
       "      <td>-0.136171</td>\n",
       "    </tr>\n",
       "  </tbody>\n",
       "</table>\n",
       "<p>1166 rows × 64 columns</p>\n",
       "</div>"
      ],
      "text/plain": [
       "      number        v0        v1        v2        v3        v4        v5  \\\n",
       "0          1  0.459556  1.068004 -0.000023  0.404865  0.988291  0.021323   \n",
       "1          1  0.514210  1.035730  0.000031  0.446691  0.937000  0.016114   \n",
       "2          1  0.631706  0.915632  0.000013  0.559298  0.834830 -0.007613   \n",
       "3          1  0.644954  0.898782 -0.000032  0.572989  0.795587 -0.007245   \n",
       "4          1  0.687299  0.861615 -0.000038  0.620114  0.773832 -0.009120   \n",
       "...      ...       ...       ...       ...       ...       ...       ...   \n",
       "1161       5  0.543384  0.697984 -0.000023  0.484875  0.667651 -0.045035   \n",
       "1162       5  0.539552  0.697464 -0.000043  0.479525  0.668351 -0.045204   \n",
       "1163       5  0.540279  0.694836 -0.000019  0.479537  0.666893 -0.042827   \n",
       "1164       5  0.536842  0.692231 -0.000039  0.476965  0.667322 -0.041909   \n",
       "1165       5  0.538242  0.686737 -0.000021  0.477807  0.661729 -0.045106   \n",
       "\n",
       "            v6        v7        v8  ...       v53       v54       v55  \\\n",
       "0     0.386485  0.904044  0.013519  ... -0.092794  0.537547  0.846286   \n",
       "1     0.420571  0.842098  0.017736  ... -0.035976  0.555677  0.774057   \n",
       "2     0.515313  0.744087 -0.017699  ... -0.042729  0.670636  0.670955   \n",
       "3     0.550288  0.704822 -0.009594  ... -0.007517  0.709739  0.665345   \n",
       "4     0.590263  0.693418 -0.017644  ... -0.023523  0.730394  0.639077   \n",
       "...        ...       ...       ...  ...       ...       ...       ...   \n",
       "1161  0.435403  0.606591 -0.068764  ... -0.083742  0.643759  0.500102   \n",
       "1162  0.429955  0.611073 -0.068713  ... -0.074027  0.635535  0.498001   \n",
       "1163  0.428672  0.608975 -0.061878  ... -0.057261  0.629776  0.485303   \n",
       "1164  0.425245  0.611663 -0.059864  ... -0.054448  0.621683  0.481183   \n",
       "1165  0.425455  0.604426 -0.064009  ... -0.060483  0.620516  0.475465   \n",
       "\n",
       "           v56       v57       v58       v59       v60       v61       v62  \n",
       "0    -0.079927  0.523416  0.877155 -0.060446  0.514705  0.915527 -0.059300  \n",
       "1    -0.036686  0.539824  0.806357 -0.041776  0.534274  0.844050 -0.050918  \n",
       "2    -0.074938  0.641264  0.701070 -0.101158  0.626095  0.737828 -0.113989  \n",
       "3    -0.030206  0.689190  0.686612 -0.045460  0.676137  0.717414 -0.051320  \n",
       "4    -0.048310  0.715270  0.682701 -0.056428  0.709047  0.709845 -0.051895  \n",
       "...        ...       ...       ...       ...       ...       ...       ...  \n",
       "1161 -0.111502  0.673980  0.477447 -0.138931  0.702728  0.449528 -0.162217  \n",
       "1162 -0.101778  0.663637  0.472552 -0.130003  0.690142  0.442413 -0.152455  \n",
       "1163 -0.082247  0.656825  0.459002 -0.108845  0.682912  0.428398 -0.129342  \n",
       "1164 -0.078393  0.646523  0.454400 -0.103199  0.670804  0.423767 -0.122771  \n",
       "1165 -0.087899  0.646627  0.447680 -0.114893  0.671950  0.414728 -0.136171  \n",
       "\n",
       "[1166 rows x 64 columns]"
      ]
     },
     "execution_count": 11,
     "metadata": {},
     "output_type": "execute_result"
    }
   ],
   "source": [
    "df"
   ]
  },
  {
   "cell_type": "code",
   "execution_count": 12,
   "id": "37a03356-3c77-4bbc-8c85-55ae204285d5",
   "metadata": {},
   "outputs": [],
   "source": [
    "X = df.drop('number', axis=1) # features\n",
    "y = df['number'] # target value"
   ]
  },
  {
   "cell_type": "code",
   "execution_count": 13,
   "id": "5f79c1d3-c891-4b36-8959-e496a0fe4e11",
   "metadata": {},
   "outputs": [],
   "source": [
    "X_train, X_test, y_train, y_test = train_test_split(X, y, test_size=0.2, random_state=6969)"
   ]
  },
  {
   "cell_type": "markdown",
   "id": "c3a6f644-0ecb-4a6b-a4e4-e5d8b7d632f0",
   "metadata": {},
   "source": [
    "# train model(s)"
   ]
  },
  {
   "cell_type": "code",
   "execution_count": 14,
   "id": "859d2a5f-ea54-423b-a9cf-37007494220e",
   "metadata": {},
   "outputs": [],
   "source": [
    "from sklearn.pipeline import make_pipeline \n",
    "from sklearn.preprocessing import StandardScaler \n",
    "\n",
    "from sklearn.linear_model import LogisticRegression, RidgeClassifier\n",
    "from sklearn.ensemble import RandomForestClassifier, GradientBoostingClassifier\n",
    "from sklearn.neighbors import KNeighborsClassifier"
   ]
  },
  {
   "cell_type": "code",
   "execution_count": 15,
   "id": "60ff6f39-1b82-4365-9d56-0d762522abdf",
   "metadata": {},
   "outputs": [],
   "source": [
    "pipelines = {\n",
    "    'lr':make_pipeline(StandardScaler(), LogisticRegression()),\n",
    "    'rc':make_pipeline(StandardScaler(), RidgeClassifier()),\n",
    "    'rf':make_pipeline(StandardScaler(), RandomForestClassifier()),\n",
    "    'gb':make_pipeline(StandardScaler(), GradientBoostingClassifier()),\n",
    "    'knn':make_pipeline(StandardScaler(), KNeighborsClassifier()),\n",
    "}"
   ]
  },
  {
   "cell_type": "code",
   "execution_count": 16,
   "id": "3a81f977-0f7b-4379-8181-3af64cf919dc",
   "metadata": {},
   "outputs": [],
   "source": [
    "import time"
   ]
  },
  {
   "cell_type": "code",
   "execution_count": 17,
   "id": "2a1de971-aa77-494f-8355-284ca738274c",
   "metadata": {},
   "outputs": [
    {
     "name": "stdout",
     "output_type": "stream",
     "text": [
      "training lr\n",
      "finished training lr in 0.462099552154541 ms\n",
      "training rc\n",
      "finished training rc in 0.03398633003234863 ms\n",
      "training rf\n",
      "finished training rf in 0.3872346878051758 ms\n",
      "training gb\n",
      "finished training gb in 6.534621953964233 ms\n",
      "training knn\n",
      "finished training knn in 0.005452632904052734 ms\n"
     ]
    }
   ],
   "source": [
    "fit_models = {}\n",
    "for algo, pipeline in pipelines.items():\n",
    "    print(f'training {algo}')\n",
    "    s_time = time.time()\n",
    "    model = pipeline.fit(X_train, y_train)\n",
    "    print(f'finished training {algo} in {time.time() - s_time} ms')\n",
    "    fit_models[algo] = model"
   ]
  },
  {
   "cell_type": "markdown",
   "id": "257b6a61-f8b4-4f98-9643-b2ae2da59636",
   "metadata": {},
   "source": [
    "# evaluating models"
   ]
  },
  {
   "cell_type": "code",
   "execution_count": 18,
   "id": "2edbeee8-3d5b-49ce-8fc8-217143e4fe7b",
   "metadata": {},
   "outputs": [],
   "source": [
    "from sklearn.metrics import accuracy_score # Accuracy metrics "
   ]
  },
  {
   "cell_type": "code",
   "execution_count": 19,
   "id": "54b40e9b-0383-417f-a028-d1669123eed9",
   "metadata": {},
   "outputs": [
    {
     "name": "stdout",
     "output_type": "stream",
     "text": [
      "lr 0.9957264957264957\n",
      "rc 1.0\n",
      "rf 1.0\n",
      "gb 1.0\n",
      "knn 0.9957264957264957\n"
     ]
    }
   ],
   "source": [
    "for algo, model in fit_models.items():\n",
    "    yhat = model.predict(X_test)\n",
    "    print(algo, accuracy_score(y_test, yhat))\n"
   ]
  },
  {
   "cell_type": "markdown",
   "id": "fd8abeaf-0a99-4d4e-a5f3-591caf57395e",
   "metadata": {},
   "source": [
    "# saving model"
   ]
  },
  {
   "cell_type": "code",
   "execution_count": null,
   "id": "9021b328-b0a6-423b-a773-2ec67eac0f8e",
   "metadata": {},
   "outputs": [],
   "source": []
  }
 ],
 "metadata": {
  "kernelspec": {
   "display_name": "Python 3",
   "language": "python",
   "name": "python3"
  },
  "language_info": {
   "codemirror_mode": {
    "name": "ipython",
    "version": 3
   },
   "file_extension": ".py",
   "mimetype": "text/x-python",
   "name": "python",
   "nbconvert_exporter": "python",
   "pygments_lexer": "ipython3",
   "version": "3.9.6"
  }
 },
 "nbformat": 4,
 "nbformat_minor": 5
}
