{
 "cells": [
  {
   "cell_type": "code",
   "execution_count": 1,
   "id": "53a90311-cca1-49de-b2d1-1099f637f042",
   "metadata": {},
   "outputs": [],
   "source": [
    "import os.path"
   ]
  },
  {
   "cell_type": "markdown",
   "id": "8586ac63-e49e-4022-bed8-30f642a9e332",
   "metadata": {},
   "source": [
    "# combining csv files and writing combined file"
   ]
  },
  {
   "cell_type": "code",
   "execution_count": 2,
   "id": "7b45923e-a47a-463b-9901-094278fa1923",
   "metadata": {},
   "outputs": [],
   "source": [
    "csv_files = [\n",
    "    os.path.join('data', '1-right.csv'),\n",
    "    os.path.join('data', '2-right.csv'),\n",
    "    os.path.join('data', '3-right.csv'),\n",
    "    os.path.join('data', '4-right.csv'),\n",
    "    os.path.join('data', '5-right.csv'),\n",
    "]"
   ]
  },
  {
   "cell_type": "code",
   "execution_count": 3,
   "id": "70d8000e-5207-4ac3-b637-d39b6bdcc8fd",
   "metadata": {},
   "outputs": [],
   "source": [
    "with open(csv_files[0], 'r') as f:\n",
    "    csv_header = f.readline()"
   ]
  },
  {
   "cell_type": "code",
   "execution_count": 4,
   "id": "231bf75f-5eef-4057-b046-fcbf972fdf65",
   "metadata": {},
   "outputs": [],
   "source": [
    "content = []"
   ]
  },
  {
   "cell_type": "code",
   "execution_count": 5,
   "id": "52ce86f1-1b50-43bd-95ab-35f53b095cc6",
   "metadata": {},
   "outputs": [],
   "source": [
    "for csv_file in csv_files:\n",
    "    with open(csv_file, 'r') as f:\n",
    "        lines = f.readlines()\n",
    "        if lines[0] != csv_header:\n",
    "            raise ValueError('csv headers don\\'t match')\n",
    "        else:\n",
    "            content += lines[1:]"
   ]
  },
  {
   "cell_type": "code",
   "execution_count": 6,
   "id": "13b370d7-b77c-4cee-84ee-e93be58ba5b0",
   "metadata": {},
   "outputs": [
    {
     "data": {
      "text/plain": [
       "2294"
      ]
     },
     "execution_count": 6,
     "metadata": {},
     "output_type": "execute_result"
    }
   ],
   "source": [
    "len(content)"
   ]
  },
  {
   "cell_type": "code",
   "execution_count": 7,
   "id": "ab74a97d-07c1-4dc8-b662-4868c2f3d5d1",
   "metadata": {},
   "outputs": [],
   "source": [
    "content.insert(0, csv_header)"
   ]
  },
  {
   "cell_type": "code",
   "execution_count": 8,
   "id": "17e07e89-4587-4266-8eee-3dadfb2bfe82",
   "metadata": {},
   "outputs": [],
   "source": [
    "# saving combined csv\n",
    "with open('combined-data.csv', 'w') as f:\n",
    "    print(''.join(content), end='', file=f)"
   ]
  },
  {
   "cell_type": "markdown",
   "id": "e64f2415-abb9-4dc0-aa8f-ba532ad13d20",
   "metadata": {},
   "source": [
    "# reading data from csv and preparing it"
   ]
  },
  {
   "cell_type": "code",
   "execution_count": 9,
   "id": "dcdabe50-4fed-4067-a1eb-5b30a96a2591",
   "metadata": {},
   "outputs": [],
   "source": [
    "import pandas as pd\n",
    "from sklearn.model_selection import train_test_split"
   ]
  },
  {
   "cell_type": "code",
   "execution_count": 10,
   "id": "2ccb85d4-9721-4fe9-88f6-daccea56e087",
   "metadata": {},
   "outputs": [],
   "source": [
    "df = pd.read_csv('combined-data.csv')"
   ]
  },
  {
   "cell_type": "code",
   "execution_count": 11,
   "id": "aed51594-7c9e-4d78-9373-a463671ecff2",
   "metadata": {},
   "outputs": [
    {
     "data": {
      "text/html": [
       "<div>\n",
       "<style scoped>\n",
       "    .dataframe tbody tr th:only-of-type {\n",
       "        vertical-align: middle;\n",
       "    }\n",
       "\n",
       "    .dataframe tbody tr th {\n",
       "        vertical-align: top;\n",
       "    }\n",
       "\n",
       "    .dataframe thead th {\n",
       "        text-align: right;\n",
       "    }\n",
       "</style>\n",
       "<table border=\"1\" class=\"dataframe\">\n",
       "  <thead>\n",
       "    <tr style=\"text-align: right;\">\n",
       "      <th></th>\n",
       "      <th>number</th>\n",
       "      <th>v0</th>\n",
       "      <th>v1</th>\n",
       "      <th>v2</th>\n",
       "      <th>v3</th>\n",
       "      <th>v4</th>\n",
       "      <th>v5</th>\n",
       "      <th>v6</th>\n",
       "      <th>v7</th>\n",
       "      <th>v8</th>\n",
       "      <th>...</th>\n",
       "      <th>v53</th>\n",
       "      <th>v54</th>\n",
       "      <th>v55</th>\n",
       "      <th>v56</th>\n",
       "      <th>v57</th>\n",
       "      <th>v58</th>\n",
       "      <th>v59</th>\n",
       "      <th>v60</th>\n",
       "      <th>v61</th>\n",
       "      <th>v62</th>\n",
       "    </tr>\n",
       "  </thead>\n",
       "  <tbody>\n",
       "    <tr>\n",
       "      <th>0</th>\n",
       "      <td>1</td>\n",
       "      <td>0.456219</td>\n",
       "      <td>0.873755</td>\n",
       "      <td>-0.000070</td>\n",
       "      <td>0.532996</td>\n",
       "      <td>0.882750</td>\n",
       "      <td>-0.020303</td>\n",
       "      <td>0.594814</td>\n",
       "      <td>0.887066</td>\n",
       "      <td>-0.072079</td>\n",
       "      <td>...</td>\n",
       "      <td>-0.192685</td>\n",
       "      <td>0.412329</td>\n",
       "      <td>0.849084</td>\n",
       "      <td>-0.242480</td>\n",
       "      <td>0.413113</td>\n",
       "      <td>0.895810</td>\n",
       "      <td>-0.251400</td>\n",
       "      <td>0.416987</td>\n",
       "      <td>0.939110</td>\n",
       "      <td>-0.244810</td>\n",
       "    </tr>\n",
       "    <tr>\n",
       "      <th>1</th>\n",
       "      <td>1</td>\n",
       "      <td>0.382249</td>\n",
       "      <td>1.022371</td>\n",
       "      <td>0.000041</td>\n",
       "      <td>0.480319</td>\n",
       "      <td>1.008138</td>\n",
       "      <td>-0.054953</td>\n",
       "      <td>0.566399</td>\n",
       "      <td>0.941803</td>\n",
       "      <td>-0.118954</td>\n",
       "      <td>...</td>\n",
       "      <td>-0.232701</td>\n",
       "      <td>0.362973</td>\n",
       "      <td>0.807706</td>\n",
       "      <td>-0.292520</td>\n",
       "      <td>0.383200</td>\n",
       "      <td>0.872722</td>\n",
       "      <td>-0.315798</td>\n",
       "      <td>0.388456</td>\n",
       "      <td>0.921556</td>\n",
       "      <td>-0.331551</td>\n",
       "    </tr>\n",
       "    <tr>\n",
       "      <th>2</th>\n",
       "      <td>1</td>\n",
       "      <td>0.355092</td>\n",
       "      <td>1.021233</td>\n",
       "      <td>-0.000152</td>\n",
       "      <td>0.453272</td>\n",
       "      <td>0.974141</td>\n",
       "      <td>-0.006805</td>\n",
       "      <td>0.519954</td>\n",
       "      <td>0.898316</td>\n",
       "      <td>-0.031711</td>\n",
       "      <td>...</td>\n",
       "      <td>-0.123474</td>\n",
       "      <td>0.367822</td>\n",
       "      <td>0.769571</td>\n",
       "      <td>-0.178965</td>\n",
       "      <td>0.389779</td>\n",
       "      <td>0.832463</td>\n",
       "      <td>-0.178868</td>\n",
       "      <td>0.389396</td>\n",
       "      <td>0.883066</td>\n",
       "      <td>-0.164177</td>\n",
       "    </tr>\n",
       "    <tr>\n",
       "      <th>3</th>\n",
       "      <td>1</td>\n",
       "      <td>0.317955</td>\n",
       "      <td>0.978340</td>\n",
       "      <td>-0.000045</td>\n",
       "      <td>0.401257</td>\n",
       "      <td>0.952056</td>\n",
       "      <td>-0.010679</td>\n",
       "      <td>0.462353</td>\n",
       "      <td>0.875827</td>\n",
       "      <td>-0.042232</td>\n",
       "      <td>...</td>\n",
       "      <td>-0.101091</td>\n",
       "      <td>0.348230</td>\n",
       "      <td>0.695236</td>\n",
       "      <td>-0.122613</td>\n",
       "      <td>0.357710</td>\n",
       "      <td>0.768464</td>\n",
       "      <td>-0.110804</td>\n",
       "      <td>0.344006</td>\n",
       "      <td>0.803927</td>\n",
       "      <td>-0.101029</td>\n",
       "    </tr>\n",
       "    <tr>\n",
       "      <th>4</th>\n",
       "      <td>1</td>\n",
       "      <td>0.309653</td>\n",
       "      <td>0.933218</td>\n",
       "      <td>-0.000035</td>\n",
       "      <td>0.385834</td>\n",
       "      <td>0.897101</td>\n",
       "      <td>-0.022649</td>\n",
       "      <td>0.443898</td>\n",
       "      <td>0.801311</td>\n",
       "      <td>-0.049826</td>\n",
       "      <td>...</td>\n",
       "      <td>-0.081017</td>\n",
       "      <td>0.315975</td>\n",
       "      <td>0.631280</td>\n",
       "      <td>-0.109333</td>\n",
       "      <td>0.324516</td>\n",
       "      <td>0.711649</td>\n",
       "      <td>-0.095311</td>\n",
       "      <td>0.309623</td>\n",
       "      <td>0.755084</td>\n",
       "      <td>-0.079429</td>\n",
       "    </tr>\n",
       "    <tr>\n",
       "      <th>...</th>\n",
       "      <td>...</td>\n",
       "      <td>...</td>\n",
       "      <td>...</td>\n",
       "      <td>...</td>\n",
       "      <td>...</td>\n",
       "      <td>...</td>\n",
       "      <td>...</td>\n",
       "      <td>...</td>\n",
       "      <td>...</td>\n",
       "      <td>...</td>\n",
       "      <td>...</td>\n",
       "      <td>...</td>\n",
       "      <td>...</td>\n",
       "      <td>...</td>\n",
       "      <td>...</td>\n",
       "      <td>...</td>\n",
       "      <td>...</td>\n",
       "      <td>...</td>\n",
       "      <td>...</td>\n",
       "      <td>...</td>\n",
       "      <td>...</td>\n",
       "    </tr>\n",
       "    <tr>\n",
       "      <th>2289</th>\n",
       "      <td>5</td>\n",
       "      <td>0.350177</td>\n",
       "      <td>0.760743</td>\n",
       "      <td>-0.000073</td>\n",
       "      <td>0.408041</td>\n",
       "      <td>0.749393</td>\n",
       "      <td>-0.025332</td>\n",
       "      <td>0.455017</td>\n",
       "      <td>0.679040</td>\n",
       "      <td>-0.032530</td>\n",
       "      <td>...</td>\n",
       "      <td>-0.008599</td>\n",
       "      <td>0.322104</td>\n",
       "      <td>0.473742</td>\n",
       "      <td>-0.013582</td>\n",
       "      <td>0.319052</td>\n",
       "      <td>0.427352</td>\n",
       "      <td>-0.024718</td>\n",
       "      <td>0.316667</td>\n",
       "      <td>0.380856</td>\n",
       "      <td>-0.034656</td>\n",
       "    </tr>\n",
       "    <tr>\n",
       "      <th>2290</th>\n",
       "      <td>5</td>\n",
       "      <td>0.349107</td>\n",
       "      <td>0.759184</td>\n",
       "      <td>-0.000085</td>\n",
       "      <td>0.407159</td>\n",
       "      <td>0.748954</td>\n",
       "      <td>-0.024824</td>\n",
       "      <td>0.454302</td>\n",
       "      <td>0.678276</td>\n",
       "      <td>-0.030291</td>\n",
       "      <td>...</td>\n",
       "      <td>-0.005590</td>\n",
       "      <td>0.321730</td>\n",
       "      <td>0.472208</td>\n",
       "      <td>-0.011031</td>\n",
       "      <td>0.318479</td>\n",
       "      <td>0.425481</td>\n",
       "      <td>-0.022108</td>\n",
       "      <td>0.315923</td>\n",
       "      <td>0.378818</td>\n",
       "      <td>-0.031650</td>\n",
       "    </tr>\n",
       "    <tr>\n",
       "      <th>2291</th>\n",
       "      <td>5</td>\n",
       "      <td>0.348406</td>\n",
       "      <td>0.759560</td>\n",
       "      <td>-0.000079</td>\n",
       "      <td>0.406499</td>\n",
       "      <td>0.749546</td>\n",
       "      <td>-0.025332</td>\n",
       "      <td>0.453935</td>\n",
       "      <td>0.678353</td>\n",
       "      <td>-0.030344</td>\n",
       "      <td>...</td>\n",
       "      <td>-0.004958</td>\n",
       "      <td>0.320784</td>\n",
       "      <td>0.472693</td>\n",
       "      <td>-0.010299</td>\n",
       "      <td>0.317779</td>\n",
       "      <td>0.426051</td>\n",
       "      <td>-0.021836</td>\n",
       "      <td>0.315392</td>\n",
       "      <td>0.379795</td>\n",
       "      <td>-0.032051</td>\n",
       "    </tr>\n",
       "    <tr>\n",
       "      <th>2292</th>\n",
       "      <td>5</td>\n",
       "      <td>0.348499</td>\n",
       "      <td>0.759566</td>\n",
       "      <td>-0.000082</td>\n",
       "      <td>0.406132</td>\n",
       "      <td>0.749411</td>\n",
       "      <td>-0.024803</td>\n",
       "      <td>0.453403</td>\n",
       "      <td>0.676937</td>\n",
       "      <td>-0.029542</td>\n",
       "      <td>...</td>\n",
       "      <td>-0.006050</td>\n",
       "      <td>0.320109</td>\n",
       "      <td>0.472807</td>\n",
       "      <td>-0.011715</td>\n",
       "      <td>0.316855</td>\n",
       "      <td>0.425691</td>\n",
       "      <td>-0.023115</td>\n",
       "      <td>0.314076</td>\n",
       "      <td>0.378051</td>\n",
       "      <td>-0.033523</td>\n",
       "    </tr>\n",
       "    <tr>\n",
       "      <th>2293</th>\n",
       "      <td>5</td>\n",
       "      <td>0.347954</td>\n",
       "      <td>0.759470</td>\n",
       "      <td>-0.000081</td>\n",
       "      <td>0.405649</td>\n",
       "      <td>0.748542</td>\n",
       "      <td>-0.024349</td>\n",
       "      <td>0.452717</td>\n",
       "      <td>0.676052</td>\n",
       "      <td>-0.028665</td>\n",
       "      <td>...</td>\n",
       "      <td>-0.005194</td>\n",
       "      <td>0.319979</td>\n",
       "      <td>0.473215</td>\n",
       "      <td>-0.010649</td>\n",
       "      <td>0.316668</td>\n",
       "      <td>0.426263</td>\n",
       "      <td>-0.021900</td>\n",
       "      <td>0.314081</td>\n",
       "      <td>0.378694</td>\n",
       "      <td>-0.032222</td>\n",
       "    </tr>\n",
       "  </tbody>\n",
       "</table>\n",
       "<p>2294 rows × 64 columns</p>\n",
       "</div>"
      ],
      "text/plain": [
       "      number        v0        v1        v2        v3        v4        v5  \\\n",
       "0          1  0.456219  0.873755 -0.000070  0.532996  0.882750 -0.020303   \n",
       "1          1  0.382249  1.022371  0.000041  0.480319  1.008138 -0.054953   \n",
       "2          1  0.355092  1.021233 -0.000152  0.453272  0.974141 -0.006805   \n",
       "3          1  0.317955  0.978340 -0.000045  0.401257  0.952056 -0.010679   \n",
       "4          1  0.309653  0.933218 -0.000035  0.385834  0.897101 -0.022649   \n",
       "...      ...       ...       ...       ...       ...       ...       ...   \n",
       "2289       5  0.350177  0.760743 -0.000073  0.408041  0.749393 -0.025332   \n",
       "2290       5  0.349107  0.759184 -0.000085  0.407159  0.748954 -0.024824   \n",
       "2291       5  0.348406  0.759560 -0.000079  0.406499  0.749546 -0.025332   \n",
       "2292       5  0.348499  0.759566 -0.000082  0.406132  0.749411 -0.024803   \n",
       "2293       5  0.347954  0.759470 -0.000081  0.405649  0.748542 -0.024349   \n",
       "\n",
       "            v6        v7        v8  ...       v53       v54       v55  \\\n",
       "0     0.594814  0.887066 -0.072079  ... -0.192685  0.412329  0.849084   \n",
       "1     0.566399  0.941803 -0.118954  ... -0.232701  0.362973  0.807706   \n",
       "2     0.519954  0.898316 -0.031711  ... -0.123474  0.367822  0.769571   \n",
       "3     0.462353  0.875827 -0.042232  ... -0.101091  0.348230  0.695236   \n",
       "4     0.443898  0.801311 -0.049826  ... -0.081017  0.315975  0.631280   \n",
       "...        ...       ...       ...  ...       ...       ...       ...   \n",
       "2289  0.455017  0.679040 -0.032530  ... -0.008599  0.322104  0.473742   \n",
       "2290  0.454302  0.678276 -0.030291  ... -0.005590  0.321730  0.472208   \n",
       "2291  0.453935  0.678353 -0.030344  ... -0.004958  0.320784  0.472693   \n",
       "2292  0.453403  0.676937 -0.029542  ... -0.006050  0.320109  0.472807   \n",
       "2293  0.452717  0.676052 -0.028665  ... -0.005194  0.319979  0.473215   \n",
       "\n",
       "           v56       v57       v58       v59       v60       v61       v62  \n",
       "0    -0.242480  0.413113  0.895810 -0.251400  0.416987  0.939110 -0.244810  \n",
       "1    -0.292520  0.383200  0.872722 -0.315798  0.388456  0.921556 -0.331551  \n",
       "2    -0.178965  0.389779  0.832463 -0.178868  0.389396  0.883066 -0.164177  \n",
       "3    -0.122613  0.357710  0.768464 -0.110804  0.344006  0.803927 -0.101029  \n",
       "4    -0.109333  0.324516  0.711649 -0.095311  0.309623  0.755084 -0.079429  \n",
       "...        ...       ...       ...       ...       ...       ...       ...  \n",
       "2289 -0.013582  0.319052  0.427352 -0.024718  0.316667  0.380856 -0.034656  \n",
       "2290 -0.011031  0.318479  0.425481 -0.022108  0.315923  0.378818 -0.031650  \n",
       "2291 -0.010299  0.317779  0.426051 -0.021836  0.315392  0.379795 -0.032051  \n",
       "2292 -0.011715  0.316855  0.425691 -0.023115  0.314076  0.378051 -0.033523  \n",
       "2293 -0.010649  0.316668  0.426263 -0.021900  0.314081  0.378694 -0.032222  \n",
       "\n",
       "[2294 rows x 64 columns]"
      ]
     },
     "execution_count": 11,
     "metadata": {},
     "output_type": "execute_result"
    }
   ],
   "source": [
    "df"
   ]
  },
  {
   "cell_type": "code",
   "execution_count": 12,
   "id": "37a03356-3c77-4bbc-8c85-55ae204285d5",
   "metadata": {},
   "outputs": [],
   "source": [
    "X = df.drop('number', axis=1) # features\n",
    "y = df['number'] # target value"
   ]
  },
  {
   "cell_type": "code",
   "execution_count": 13,
   "id": "5f79c1d3-c891-4b36-8959-e496a0fe4e11",
   "metadata": {},
   "outputs": [],
   "source": [
    "X_train, X_test, y_train, y_test = train_test_split(X, y, test_size=0.2, random_state=6969)"
   ]
  },
  {
   "cell_type": "markdown",
   "id": "c3a6f644-0ecb-4a6b-a4e4-e5d8b7d632f0",
   "metadata": {},
   "source": [
    "# train model(s)"
   ]
  },
  {
   "cell_type": "code",
   "execution_count": 14,
   "id": "859d2a5f-ea54-423b-a9cf-37007494220e",
   "metadata": {},
   "outputs": [],
   "source": [
    "from sklearn.pipeline import make_pipeline \n",
    "from sklearn.preprocessing import StandardScaler \n",
    "\n",
    "from sklearn.linear_model import LogisticRegression, RidgeClassifier\n",
    "from sklearn.ensemble import RandomForestClassifier, GradientBoostingClassifier\n",
    "from sklearn.neighbors import KNeighborsClassifier"
   ]
  },
  {
   "cell_type": "code",
   "execution_count": 15,
   "id": "60ff6f39-1b82-4365-9d56-0d762522abdf",
   "metadata": {},
   "outputs": [],
   "source": [
    "pipelines = {\n",
    "    'lr':make_pipeline(StandardScaler(), LogisticRegression()),\n",
    "    'rc':make_pipeline(StandardScaler(), RidgeClassifier()),\n",
    "    'rf':make_pipeline(StandardScaler(), RandomForestClassifier()),\n",
    "    'gb':make_pipeline(StandardScaler(), GradientBoostingClassifier()),\n",
    "    'knn':make_pipeline(StandardScaler(), KNeighborsClassifier()),\n",
    "}"
   ]
  },
  {
   "cell_type": "code",
   "execution_count": 16,
   "id": "3a81f977-0f7b-4379-8181-3af64cf919dc",
   "metadata": {},
   "outputs": [],
   "source": [
    "import time"
   ]
  },
  {
   "cell_type": "code",
   "execution_count": 17,
   "id": "2a1de971-aa77-494f-8355-284ca738274c",
   "metadata": {},
   "outputs": [
    {
     "name": "stdout",
     "output_type": "stream",
     "text": [
      "training lr\n"
     ]
    },
    {
     "name": "stderr",
     "output_type": "stream",
     "text": [
      "/home/aac/anaconda3/envs/mediapipe/lib/python3.9/site-packages/sklearn/linear_model/_logistic.py:763: ConvergenceWarning: lbfgs failed to converge (status=1):\n",
      "STOP: TOTAL NO. of ITERATIONS REACHED LIMIT.\n",
      "\n",
      "Increase the number of iterations (max_iter) or scale the data as shown in:\n",
      "    https://scikit-learn.org/stable/modules/preprocessing.html\n",
      "Please also refer to the documentation for alternative solver options:\n",
      "    https://scikit-learn.org/stable/modules/linear_model.html#logistic-regression\n",
      "  n_iter_i = _check_optimize_result(\n"
     ]
    },
    {
     "name": "stdout",
     "output_type": "stream",
     "text": [
      "finished training lr in 0.6109356880187988 ms\n",
      "training rc\n",
      "finished training rc in 0.026322126388549805 ms\n",
      "training rf\n",
      "finished training rf in 0.6469628810882568 ms\n",
      "training gb\n",
      "finished training gb in 13.91026520729065 ms\n",
      "training knn\n",
      "finished training knn in 0.0044498443603515625 ms\n"
     ]
    }
   ],
   "source": [
    "fit_models = {}\n",
    "for algo, pipeline in pipelines.items():\n",
    "    print(f'training {algo}')\n",
    "    s_time = time.time()\n",
    "    model = pipeline.fit(X_train, y_train)\n",
    "    print(f'finished training {algo} in {time.time() - s_time} ms')\n",
    "    fit_models[algo] = model"
   ]
  },
  {
   "cell_type": "markdown",
   "id": "257b6a61-f8b4-4f98-9643-b2ae2da59636",
   "metadata": {},
   "source": [
    "# evaluating models"
   ]
  },
  {
   "cell_type": "code",
   "execution_count": 18,
   "id": "2edbeee8-3d5b-49ce-8fc8-217143e4fe7b",
   "metadata": {},
   "outputs": [],
   "source": [
    "from sklearn.metrics import accuracy_score # Accuracy metrics "
   ]
  },
  {
   "cell_type": "code",
   "execution_count": 19,
   "id": "54b40e9b-0383-417f-a028-d1669123eed9",
   "metadata": {},
   "outputs": [
    {
     "name": "stdout",
     "output_type": "stream",
     "text": [
      "lr 1.0\n",
      "rc 0.9934640522875817\n",
      "rf 0.9934640522875817\n",
      "gb 0.9934640522875817\n",
      "knn 0.9934640522875817\n"
     ]
    }
   ],
   "source": [
    "for algo, model in fit_models.items():\n",
    "    yhat = model.predict(X_test)\n",
    "    print(algo, accuracy_score(y_test, yhat))\n"
   ]
  },
  {
   "cell_type": "markdown",
   "id": "fd8abeaf-0a99-4d4e-a5f3-591caf57395e",
   "metadata": {},
   "source": [
    "# saving model"
   ]
  },
  {
   "cell_type": "code",
   "execution_count": 20,
   "id": "e8890be0-96ba-4b75-923c-a1664016af40",
   "metadata": {},
   "outputs": [],
   "source": [
    "import pickle"
   ]
  },
  {
   "cell_type": "code",
   "execution_count": 21,
   "id": "9021b328-b0a6-423b-a773-2ec67eac0f8e",
   "metadata": {},
   "outputs": [],
   "source": [
    "with open('trained-model.pkl', 'wb') as f:\n",
    "    pickle.dump(fit_models['rf'], f)"
   ]
  }
 ],
 "metadata": {
  "kernelspec": {
   "display_name": "Python 3",
   "language": "python",
   "name": "python3"
  },
  "language_info": {
   "codemirror_mode": {
    "name": "ipython",
    "version": 3
   },
   "file_extension": ".py",
   "mimetype": "text/x-python",
   "name": "python",
   "nbconvert_exporter": "python",
   "pygments_lexer": "ipython3",
   "version": "3.9.6"
  }
 },
 "nbformat": 4,
 "nbformat_minor": 5
}
