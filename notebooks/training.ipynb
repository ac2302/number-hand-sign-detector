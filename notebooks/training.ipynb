{
 "cells": [
  {
   "cell_type": "code",
   "execution_count": 1,
   "id": "53a90311-cca1-49de-b2d1-1099f637f042",
   "metadata": {},
   "outputs": [],
   "source": [
    "import os.path"
   ]
  },
  {
   "cell_type": "markdown",
   "id": "8586ac63-e49e-4022-bed8-30f642a9e332",
   "metadata": {},
   "source": [
    "# combining csv files and writing combined file"
   ]
  },
  {
   "cell_type": "code",
   "execution_count": 2,
   "id": "7b45923e-a47a-463b-9901-094278fa1923",
   "metadata": {},
   "outputs": [],
   "source": [
    "csv_files = [\n",
    "    os.path.join('data', '1-right.csv'),\n",
    "    os.path.join('data', '2-right.csv'),\n",
    "    os.path.join('data', '3-right.csv'),\n",
    "    os.path.join('data', '4-right.csv'),\n",
    "    os.path.join('data', '5-right.csv'),\n",
    "    os.path.join('data', '5-right-cam2.csv'),\n",
    "    os.path.join('data', '4-right-cam2.csv'),\n",
    "]"
   ]
  },
  {
   "cell_type": "code",
   "execution_count": 3,
   "id": "70d8000e-5207-4ac3-b637-d39b6bdcc8fd",
   "metadata": {},
   "outputs": [],
   "source": [
    "with open(csv_files[0], 'r') as f:\n",
    "    csv_header = f.readline()"
   ]
  },
  {
   "cell_type": "code",
   "execution_count": 4,
   "id": "231bf75f-5eef-4057-b046-fcbf972fdf65",
   "metadata": {},
   "outputs": [],
   "source": [
    "content = []"
   ]
  },
  {
   "cell_type": "code",
   "execution_count": 5,
   "id": "52ce86f1-1b50-43bd-95ab-35f53b095cc6",
   "metadata": {},
   "outputs": [],
   "source": [
    "for csv_file in csv_files:\n",
    "    with open(csv_file, 'r') as f:\n",
    "        lines = f.readlines()\n",
    "        if lines[0] != csv_header:\n",
    "            raise ValueError('csv headers don\\'t match')\n",
    "        else:\n",
    "            content += lines[1:]"
   ]
  },
  {
   "cell_type": "code",
   "execution_count": 6,
   "id": "13b370d7-b77c-4cee-84ee-e93be58ba5b0",
   "metadata": {},
   "outputs": [
    {
     "data": {
      "text/plain": [
       "7451"
      ]
     },
     "execution_count": 6,
     "metadata": {},
     "output_type": "execute_result"
    }
   ],
   "source": [
    "len(content)"
   ]
  },
  {
   "cell_type": "code",
   "execution_count": 7,
   "id": "ab74a97d-07c1-4dc8-b662-4868c2f3d5d1",
   "metadata": {},
   "outputs": [],
   "source": [
    "content.insert(0, csv_header)"
   ]
  },
  {
   "cell_type": "code",
   "execution_count": 8,
   "id": "17e07e89-4587-4266-8eee-3dadfb2bfe82",
   "metadata": {},
   "outputs": [],
   "source": [
    "# saving combined csv\n",
    "with open('combined-data.csv', 'w') as f:\n",
    "    print(''.join(content), end='', file=f)"
   ]
  },
  {
   "cell_type": "markdown",
   "id": "e64f2415-abb9-4dc0-aa8f-ba532ad13d20",
   "metadata": {},
   "source": [
    "# reading data from csv and preparing it"
   ]
  },
  {
   "cell_type": "code",
   "execution_count": 9,
   "id": "dcdabe50-4fed-4067-a1eb-5b30a96a2591",
   "metadata": {},
   "outputs": [],
   "source": [
    "import pandas as pd\n",
    "from sklearn.model_selection import train_test_split"
   ]
  },
  {
   "cell_type": "code",
   "execution_count": 10,
   "id": "2ccb85d4-9721-4fe9-88f6-daccea56e087",
   "metadata": {},
   "outputs": [],
   "source": [
    "df = pd.read_csv('combined-data.csv')"
   ]
  },
  {
   "cell_type": "code",
   "execution_count": 11,
   "id": "aed51594-7c9e-4d78-9373-a463671ecff2",
   "metadata": {},
   "outputs": [
    {
     "data": {
      "text/html": [
       "<div>\n",
       "<style scoped>\n",
       "    .dataframe tbody tr th:only-of-type {\n",
       "        vertical-align: middle;\n",
       "    }\n",
       "\n",
       "    .dataframe tbody tr th {\n",
       "        vertical-align: top;\n",
       "    }\n",
       "\n",
       "    .dataframe thead th {\n",
       "        text-align: right;\n",
       "    }\n",
       "</style>\n",
       "<table border=\"1\" class=\"dataframe\">\n",
       "  <thead>\n",
       "    <tr style=\"text-align: right;\">\n",
       "      <th></th>\n",
       "      <th>number</th>\n",
       "      <th>v0</th>\n",
       "      <th>v1</th>\n",
       "      <th>v2</th>\n",
       "      <th>v3</th>\n",
       "      <th>v4</th>\n",
       "      <th>v5</th>\n",
       "      <th>v6</th>\n",
       "      <th>v7</th>\n",
       "      <th>v8</th>\n",
       "      <th>...</th>\n",
       "      <th>v53</th>\n",
       "      <th>v54</th>\n",
       "      <th>v55</th>\n",
       "      <th>v56</th>\n",
       "      <th>v57</th>\n",
       "      <th>v58</th>\n",
       "      <th>v59</th>\n",
       "      <th>v60</th>\n",
       "      <th>v61</th>\n",
       "      <th>v62</th>\n",
       "    </tr>\n",
       "  </thead>\n",
       "  <tbody>\n",
       "    <tr>\n",
       "      <th>0</th>\n",
       "      <td>1</td>\n",
       "      <td>0.602748</td>\n",
       "      <td>0.917588</td>\n",
       "      <td>-0.000028</td>\n",
       "      <td>0.693633</td>\n",
       "      <td>0.912995</td>\n",
       "      <td>-0.006857</td>\n",
       "      <td>0.754931</td>\n",
       "      <td>0.900526</td>\n",
       "      <td>-0.040802</td>\n",
       "      <td>...</td>\n",
       "      <td>-0.147942</td>\n",
       "      <td>0.682083</td>\n",
       "      <td>0.750853</td>\n",
       "      <td>-0.199479</td>\n",
       "      <td>0.711456</td>\n",
       "      <td>0.792313</td>\n",
       "      <td>-0.227089</td>\n",
       "      <td>0.731041</td>\n",
       "      <td>0.826979</td>\n",
       "      <td>-0.242656</td>\n",
       "    </tr>\n",
       "    <tr>\n",
       "      <th>1</th>\n",
       "      <td>1</td>\n",
       "      <td>0.534882</td>\n",
       "      <td>0.863483</td>\n",
       "      <td>-0.000140</td>\n",
       "      <td>0.595566</td>\n",
       "      <td>0.866910</td>\n",
       "      <td>-0.030099</td>\n",
       "      <td>0.660967</td>\n",
       "      <td>0.806089</td>\n",
       "      <td>-0.048674</td>\n",
       "      <td>...</td>\n",
       "      <td>-0.032465</td>\n",
       "      <td>0.569288</td>\n",
       "      <td>0.576899</td>\n",
       "      <td>-0.092532</td>\n",
       "      <td>0.574232</td>\n",
       "      <td>0.634821</td>\n",
       "      <td>-0.115561</td>\n",
       "      <td>0.572673</td>\n",
       "      <td>0.679820</td>\n",
       "      <td>-0.123432</td>\n",
       "    </tr>\n",
       "    <tr>\n",
       "      <th>2</th>\n",
       "      <td>1</td>\n",
       "      <td>0.520680</td>\n",
       "      <td>0.898689</td>\n",
       "      <td>-0.000142</td>\n",
       "      <td>0.585637</td>\n",
       "      <td>0.884776</td>\n",
       "      <td>-0.018797</td>\n",
       "      <td>0.647537</td>\n",
       "      <td>0.798036</td>\n",
       "      <td>-0.030558</td>\n",
       "      <td>...</td>\n",
       "      <td>-0.048226</td>\n",
       "      <td>0.541657</td>\n",
       "      <td>0.600207</td>\n",
       "      <td>-0.096860</td>\n",
       "      <td>0.554513</td>\n",
       "      <td>0.663675</td>\n",
       "      <td>-0.103948</td>\n",
       "      <td>0.547745</td>\n",
       "      <td>0.703274</td>\n",
       "      <td>-0.100962</td>\n",
       "    </tr>\n",
       "    <tr>\n",
       "      <th>3</th>\n",
       "      <td>1</td>\n",
       "      <td>0.476776</td>\n",
       "      <td>0.898089</td>\n",
       "      <td>-0.000088</td>\n",
       "      <td>0.544837</td>\n",
       "      <td>0.890374</td>\n",
       "      <td>-0.026918</td>\n",
       "      <td>0.602967</td>\n",
       "      <td>0.797070</td>\n",
       "      <td>-0.037584</td>\n",
       "      <td>...</td>\n",
       "      <td>-0.065043</td>\n",
       "      <td>0.499007</td>\n",
       "      <td>0.660150</td>\n",
       "      <td>-0.107898</td>\n",
       "      <td>0.506651</td>\n",
       "      <td>0.727275</td>\n",
       "      <td>-0.102076</td>\n",
       "      <td>0.491929</td>\n",
       "      <td>0.760151</td>\n",
       "      <td>-0.089867</td>\n",
       "    </tr>\n",
       "    <tr>\n",
       "      <th>4</th>\n",
       "      <td>1</td>\n",
       "      <td>0.454493</td>\n",
       "      <td>0.901271</td>\n",
       "      <td>-0.000100</td>\n",
       "      <td>0.515079</td>\n",
       "      <td>0.880060</td>\n",
       "      <td>-0.025587</td>\n",
       "      <td>0.574937</td>\n",
       "      <td>0.795480</td>\n",
       "      <td>-0.050120</td>\n",
       "      <td>...</td>\n",
       "      <td>-0.074114</td>\n",
       "      <td>0.472746</td>\n",
       "      <td>0.650696</td>\n",
       "      <td>-0.114860</td>\n",
       "      <td>0.482902</td>\n",
       "      <td>0.717718</td>\n",
       "      <td>-0.109989</td>\n",
       "      <td>0.468389</td>\n",
       "      <td>0.759947</td>\n",
       "      <td>-0.101114</td>\n",
       "    </tr>\n",
       "    <tr>\n",
       "      <th>...</th>\n",
       "      <td>...</td>\n",
       "      <td>...</td>\n",
       "      <td>...</td>\n",
       "      <td>...</td>\n",
       "      <td>...</td>\n",
       "      <td>...</td>\n",
       "      <td>...</td>\n",
       "      <td>...</td>\n",
       "      <td>...</td>\n",
       "      <td>...</td>\n",
       "      <td>...</td>\n",
       "      <td>...</td>\n",
       "      <td>...</td>\n",
       "      <td>...</td>\n",
       "      <td>...</td>\n",
       "      <td>...</td>\n",
       "      <td>...</td>\n",
       "      <td>...</td>\n",
       "      <td>...</td>\n",
       "      <td>...</td>\n",
       "      <td>...</td>\n",
       "    </tr>\n",
       "    <tr>\n",
       "      <th>7446</th>\n",
       "      <td>4</td>\n",
       "      <td>0.460346</td>\n",
       "      <td>0.801832</td>\n",
       "      <td>-0.000082</td>\n",
       "      <td>0.421153</td>\n",
       "      <td>0.754602</td>\n",
       "      <td>-0.033525</td>\n",
       "      <td>0.402319</td>\n",
       "      <td>0.653197</td>\n",
       "      <td>-0.041127</td>\n",
       "      <td>...</td>\n",
       "      <td>-0.009764</td>\n",
       "      <td>0.533310</td>\n",
       "      <td>0.550837</td>\n",
       "      <td>-0.019729</td>\n",
       "      <td>0.546845</td>\n",
       "      <td>0.515787</td>\n",
       "      <td>-0.026886</td>\n",
       "      <td>0.560670</td>\n",
       "      <td>0.480423</td>\n",
       "      <td>-0.028421</td>\n",
       "    </tr>\n",
       "    <tr>\n",
       "      <th>7447</th>\n",
       "      <td>4</td>\n",
       "      <td>0.460667</td>\n",
       "      <td>0.802326</td>\n",
       "      <td>-0.000083</td>\n",
       "      <td>0.420983</td>\n",
       "      <td>0.755234</td>\n",
       "      <td>-0.033787</td>\n",
       "      <td>0.401414</td>\n",
       "      <td>0.653567</td>\n",
       "      <td>-0.041362</td>\n",
       "      <td>...</td>\n",
       "      <td>-0.010277</td>\n",
       "      <td>0.533197</td>\n",
       "      <td>0.550058</td>\n",
       "      <td>-0.020391</td>\n",
       "      <td>0.546836</td>\n",
       "      <td>0.515047</td>\n",
       "      <td>-0.027055</td>\n",
       "      <td>0.560680</td>\n",
       "      <td>0.480198</td>\n",
       "      <td>-0.027919</td>\n",
       "    </tr>\n",
       "    <tr>\n",
       "      <th>7448</th>\n",
       "      <td>4</td>\n",
       "      <td>0.463359</td>\n",
       "      <td>0.802403</td>\n",
       "      <td>-0.000084</td>\n",
       "      <td>0.423455</td>\n",
       "      <td>0.755093</td>\n",
       "      <td>-0.035096</td>\n",
       "      <td>0.404398</td>\n",
       "      <td>0.652363</td>\n",
       "      <td>-0.043994</td>\n",
       "      <td>...</td>\n",
       "      <td>-0.015887</td>\n",
       "      <td>0.533725</td>\n",
       "      <td>0.550645</td>\n",
       "      <td>-0.028575</td>\n",
       "      <td>0.547704</td>\n",
       "      <td>0.514707</td>\n",
       "      <td>-0.036801</td>\n",
       "      <td>0.562415</td>\n",
       "      <td>0.477812</td>\n",
       "      <td>-0.038653</td>\n",
       "    </tr>\n",
       "    <tr>\n",
       "      <th>7449</th>\n",
       "      <td>4</td>\n",
       "      <td>0.462902</td>\n",
       "      <td>0.803138</td>\n",
       "      <td>-0.000084</td>\n",
       "      <td>0.423486</td>\n",
       "      <td>0.758174</td>\n",
       "      <td>-0.034460</td>\n",
       "      <td>0.403409</td>\n",
       "      <td>0.657140</td>\n",
       "      <td>-0.043354</td>\n",
       "      <td>...</td>\n",
       "      <td>-0.013569</td>\n",
       "      <td>0.533694</td>\n",
       "      <td>0.548648</td>\n",
       "      <td>-0.025409</td>\n",
       "      <td>0.548187</td>\n",
       "      <td>0.513385</td>\n",
       "      <td>-0.033197</td>\n",
       "      <td>0.563307</td>\n",
       "      <td>0.477578</td>\n",
       "      <td>-0.034698</td>\n",
       "    </tr>\n",
       "    <tr>\n",
       "      <th>7450</th>\n",
       "      <td>4</td>\n",
       "      <td>0.462384</td>\n",
       "      <td>0.803482</td>\n",
       "      <td>-0.000082</td>\n",
       "      <td>0.423539</td>\n",
       "      <td>0.757655</td>\n",
       "      <td>-0.033374</td>\n",
       "      <td>0.404576</td>\n",
       "      <td>0.657456</td>\n",
       "      <td>-0.041578</td>\n",
       "      <td>...</td>\n",
       "      <td>-0.012871</td>\n",
       "      <td>0.533772</td>\n",
       "      <td>0.548704</td>\n",
       "      <td>-0.024488</td>\n",
       "      <td>0.548334</td>\n",
       "      <td>0.513569</td>\n",
       "      <td>-0.033041</td>\n",
       "      <td>0.563377</td>\n",
       "      <td>0.477534</td>\n",
       "      <td>-0.035431</td>\n",
       "    </tr>\n",
       "  </tbody>\n",
       "</table>\n",
       "<p>7451 rows × 64 columns</p>\n",
       "</div>"
      ],
      "text/plain": [
       "      number        v0        v1        v2        v3        v4        v5  \\\n",
       "0          1  0.602748  0.917588 -0.000028  0.693633  0.912995 -0.006857   \n",
       "1          1  0.534882  0.863483 -0.000140  0.595566  0.866910 -0.030099   \n",
       "2          1  0.520680  0.898689 -0.000142  0.585637  0.884776 -0.018797   \n",
       "3          1  0.476776  0.898089 -0.000088  0.544837  0.890374 -0.026918   \n",
       "4          1  0.454493  0.901271 -0.000100  0.515079  0.880060 -0.025587   \n",
       "...      ...       ...       ...       ...       ...       ...       ...   \n",
       "7446       4  0.460346  0.801832 -0.000082  0.421153  0.754602 -0.033525   \n",
       "7447       4  0.460667  0.802326 -0.000083  0.420983  0.755234 -0.033787   \n",
       "7448       4  0.463359  0.802403 -0.000084  0.423455  0.755093 -0.035096   \n",
       "7449       4  0.462902  0.803138 -0.000084  0.423486  0.758174 -0.034460   \n",
       "7450       4  0.462384  0.803482 -0.000082  0.423539  0.757655 -0.033374   \n",
       "\n",
       "            v6        v7        v8  ...       v53       v54       v55  \\\n",
       "0     0.754931  0.900526 -0.040802  ... -0.147942  0.682083  0.750853   \n",
       "1     0.660967  0.806089 -0.048674  ... -0.032465  0.569288  0.576899   \n",
       "2     0.647537  0.798036 -0.030558  ... -0.048226  0.541657  0.600207   \n",
       "3     0.602967  0.797070 -0.037584  ... -0.065043  0.499007  0.660150   \n",
       "4     0.574937  0.795480 -0.050120  ... -0.074114  0.472746  0.650696   \n",
       "...        ...       ...       ...  ...       ...       ...       ...   \n",
       "7446  0.402319  0.653197 -0.041127  ... -0.009764  0.533310  0.550837   \n",
       "7447  0.401414  0.653567 -0.041362  ... -0.010277  0.533197  0.550058   \n",
       "7448  0.404398  0.652363 -0.043994  ... -0.015887  0.533725  0.550645   \n",
       "7449  0.403409  0.657140 -0.043354  ... -0.013569  0.533694  0.548648   \n",
       "7450  0.404576  0.657456 -0.041578  ... -0.012871  0.533772  0.548704   \n",
       "\n",
       "           v56       v57       v58       v59       v60       v61       v62  \n",
       "0    -0.199479  0.711456  0.792313 -0.227089  0.731041  0.826979 -0.242656  \n",
       "1    -0.092532  0.574232  0.634821 -0.115561  0.572673  0.679820 -0.123432  \n",
       "2    -0.096860  0.554513  0.663675 -0.103948  0.547745  0.703274 -0.100962  \n",
       "3    -0.107898  0.506651  0.727275 -0.102076  0.491929  0.760151 -0.089867  \n",
       "4    -0.114860  0.482902  0.717718 -0.109989  0.468389  0.759947 -0.101114  \n",
       "...        ...       ...       ...       ...       ...       ...       ...  \n",
       "7446 -0.019729  0.546845  0.515787 -0.026886  0.560670  0.480423 -0.028421  \n",
       "7447 -0.020391  0.546836  0.515047 -0.027055  0.560680  0.480198 -0.027919  \n",
       "7448 -0.028575  0.547704  0.514707 -0.036801  0.562415  0.477812 -0.038653  \n",
       "7449 -0.025409  0.548187  0.513385 -0.033197  0.563307  0.477578 -0.034698  \n",
       "7450 -0.024488  0.548334  0.513569 -0.033041  0.563377  0.477534 -0.035431  \n",
       "\n",
       "[7451 rows x 64 columns]"
      ]
     },
     "execution_count": 11,
     "metadata": {},
     "output_type": "execute_result"
    }
   ],
   "source": [
    "df"
   ]
  },
  {
   "cell_type": "code",
   "execution_count": 12,
   "id": "37a03356-3c77-4bbc-8c85-55ae204285d5",
   "metadata": {},
   "outputs": [],
   "source": [
    "X = df.drop('number', axis=1) # features\n",
    "y = df['number'] # target value"
   ]
  },
  {
   "cell_type": "code",
   "execution_count": 13,
   "id": "5f79c1d3-c891-4b36-8959-e496a0fe4e11",
   "metadata": {},
   "outputs": [],
   "source": [
    "X_train, X_test, y_train, y_test = train_test_split(X, y, test_size=0.2, random_state=6969)"
   ]
  },
  {
   "cell_type": "markdown",
   "id": "c3a6f644-0ecb-4a6b-a4e4-e5d8b7d632f0",
   "metadata": {},
   "source": [
    "# train model(s)"
   ]
  },
  {
   "cell_type": "code",
   "execution_count": 14,
   "id": "859d2a5f-ea54-423b-a9cf-37007494220e",
   "metadata": {},
   "outputs": [],
   "source": [
    "from sklearn.pipeline import make_pipeline \n",
    "from sklearn.preprocessing import StandardScaler \n",
    "\n",
    "from sklearn.linear_model import LogisticRegression, RidgeClassifier\n",
    "from sklearn.ensemble import RandomForestClassifier, GradientBoostingClassifier\n",
    "from sklearn.neighbors import KNeighborsClassifier"
   ]
  },
  {
   "cell_type": "code",
   "execution_count": 15,
   "id": "60ff6f39-1b82-4365-9d56-0d762522abdf",
   "metadata": {},
   "outputs": [],
   "source": [
    "pipelines = {\n",
    "    'lr':make_pipeline(StandardScaler(), LogisticRegression()),\n",
    "    'rc':make_pipeline(StandardScaler(), RidgeClassifier()),\n",
    "    'rf':make_pipeline(StandardScaler(), RandomForestClassifier()),\n",
    "    'gb':make_pipeline(StandardScaler(), GradientBoostingClassifier()),\n",
    "    'knn':make_pipeline(StandardScaler(), KNeighborsClassifier()),\n",
    "}"
   ]
  },
  {
   "cell_type": "code",
   "execution_count": 16,
   "id": "3a81f977-0f7b-4379-8181-3af64cf919dc",
   "metadata": {},
   "outputs": [],
   "source": [
    "import time"
   ]
  },
  {
   "cell_type": "code",
   "execution_count": null,
   "id": "2a1de971-aa77-494f-8355-284ca738274c",
   "metadata": {},
   "outputs": [
    {
     "name": "stdout",
     "output_type": "stream",
     "text": [
      "training lr\n"
     ]
    },
    {
     "name": "stderr",
     "output_type": "stream",
     "text": [
      "/home/aac/anaconda3/envs/mediapipe/lib/python3.9/site-packages/sklearn/linear_model/_logistic.py:763: ConvergenceWarning: lbfgs failed to converge (status=1):\n",
      "STOP: TOTAL NO. of ITERATIONS REACHED LIMIT.\n",
      "\n",
      "Increase the number of iterations (max_iter) or scale the data as shown in:\n",
      "    https://scikit-learn.org/stable/modules/preprocessing.html\n",
      "Please also refer to the documentation for alternative solver options:\n",
      "    https://scikit-learn.org/stable/modules/linear_model.html#logistic-regression\n",
      "  n_iter_i = _check_optimize_result(\n"
     ]
    },
    {
     "name": "stdout",
     "output_type": "stream",
     "text": [
      "finished training lr in 0.9754440784454346 s\n",
      "training rc\n",
      "finished training rc in 0.040846824645996094 s\n",
      "training rf\n",
      "finished training rf in 4.081534385681152 s\n",
      "training gb\n"
     ]
    }
   ],
   "source": [
    "fit_models = {}\n",
    "for algo, pipeline in pipelines.items():\n",
    "    print(f'training {algo}')\n",
    "    s_time = time.time()\n",
    "    model = pipeline.fit(X_train, y_train)\n",
    "    print(f'finished training {algo} in {time.time() - s_time} s')\n",
    "    fit_models[algo] = model"
   ]
  },
  {
   "cell_type": "markdown",
   "id": "257b6a61-f8b4-4f98-9643-b2ae2da59636",
   "metadata": {},
   "source": [
    "# evaluating models"
   ]
  },
  {
   "cell_type": "code",
   "execution_count": 18,
   "id": "2edbeee8-3d5b-49ce-8fc8-217143e4fe7b",
   "metadata": {},
   "outputs": [],
   "source": [
    "from sklearn.metrics import accuracy_score # Accuracy metrics "
   ]
  },
  {
   "cell_type": "code",
   "execution_count": 19,
   "id": "54b40e9b-0383-417f-a028-d1669123eed9",
   "metadata": {},
   "outputs": [
    {
     "name": "stdout",
     "output_type": "stream",
     "text": [
      "lr 0.9953051643192489\n",
      "rc 0.9899396378269618\n",
      "rf 0.9966465459423206\n",
      "gb 0.9926224010731053\n",
      "knn 0.9919517102615694\n"
     ]
    }
   ],
   "source": [
    "for algo, model in fit_models.items():\n",
    "    yhat = model.predict(X_test)\n",
    "    print(algo, accuracy_score(y_test, yhat))\n"
   ]
  },
  {
   "cell_type": "markdown",
   "id": "fd8abeaf-0a99-4d4e-a5f3-591caf57395e",
   "metadata": {},
   "source": [
    "# saving model"
   ]
  },
  {
   "cell_type": "code",
   "execution_count": 20,
   "id": "e8890be0-96ba-4b75-923c-a1664016af40",
   "metadata": {},
   "outputs": [],
   "source": [
    "import pickle"
   ]
  },
  {
   "cell_type": "code",
   "execution_count": 21,
   "id": "9021b328-b0a6-423b-a773-2ec67eac0f8e",
   "metadata": {},
   "outputs": [],
   "source": [
    "with open('trained-model.pkl', 'wb') as f:\n",
    "    pickle.dump(fit_models['rf'], f)"
   ]
  }
 ],
 "metadata": {
  "kernelspec": {
   "display_name": "Python 3",
   "language": "python",
   "name": "python3"
  },
  "language_info": {
   "codemirror_mode": {
    "name": "ipython",
    "version": 3
   },
   "file_extension": ".py",
   "mimetype": "text/x-python",
   "name": "python",
   "nbconvert_exporter": "python",
   "pygments_lexer": "ipython3",
   "version": "3.9.6"
  }
 },
 "nbformat": 4,
 "nbformat_minor": 5
}
