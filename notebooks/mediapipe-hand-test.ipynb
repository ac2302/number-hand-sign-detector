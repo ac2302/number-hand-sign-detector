{
 "cells": [
  {
   "cell_type": "code",
   "execution_count": 1,
   "source": [
    "import mediapipe as mp\n",
    "import numpy as np\n",
    "import cv2"
   ],
   "outputs": [],
   "metadata": {}
  },
  {
   "cell_type": "markdown",
   "source": [
    "# live test"
   ],
   "metadata": {}
  },
  {
   "cell_type": "code",
   "execution_count": 2,
   "source": [
    "mp_drawing = mp.solutions.drawing_utils\n",
    "mp_hands = mp.solutions.hands\n",
    "drawing_styles = mp.solutions.drawing_styles"
   ],
   "outputs": [],
   "metadata": {}
  },
  {
   "cell_type": "code",
   "execution_count": 32,
   "source": [
    "cap = cv2.VideoCapture(1)\n",
    "with mp_hands.Hands(\n",
    "        min_detection_confidence=0.5,\n",
    "        min_tracking_confidence=0.5) as hands:\n",
    "    while cap.isOpened():\n",
    "        success, image = cap.read()\n",
    "        if not success:\n",
    "            print(\"Ignoring empty camera frame.\")\n",
    "            # If loading a video, use 'break' instead of 'continue'.\n",
    "            continue\n",
    "\n",
    "        # Flip the image horizontally for a later selfie-view display, and convert\n",
    "        # the BGR image to RGB.\n",
    "        image = cv2.cvtColor(cv2.flip(image, 1), cv2.COLOR_BGR2RGB)\n",
    "        # To improve performance, optionally mark the image as not writeable to\n",
    "        # pass by reference.\n",
    "        image.flags.writeable = False\n",
    "        results = hands.process(image)\n",
    "\n",
    "        # Draw the hand annotations on the image.\n",
    "        image.flags.writeable = True\n",
    "        image = cv2.cvtColor(image, cv2.COLOR_RGB2BGR)\n",
    "        if results.multi_hand_landmarks:\n",
    "            hand_landmarks = results.multi_hand_landmarks[0]\n",
    "            mp_drawing.draw_landmarks(\n",
    "                image, hand_landmarks, mp_hands.HAND_CONNECTIONS,\n",
    "                drawing_styles.get_default_hand_landmark_style(),\n",
    "                drawing_styles.get_default_hand_connection_style())\n",
    "        cv2.imshow('MediaPipe Hands', image)\n",
    "        if cv2.waitKey(10) & 0xFF == ord('q'):\n",
    "            break\n",
    "cap.release()\n",
    "cv2.destroyAllWindows() \n"
   ],
   "outputs": [],
   "metadata": {}
  },
  {
   "cell_type": "markdown",
   "source": [
    "# displaying row to give to model"
   ],
   "metadata": {}
  },
  {
   "cell_type": "code",
   "execution_count": 34,
   "source": [
    "if results.multi_hand_landmarks: \n",
    "    print(list(np.array([[i.x, i.y, i.z] for i in results.multi_hand_landmarks[0].landmark]).flatten()))"
   ],
   "outputs": [
    {
     "output_type": "stream",
     "name": "stdout",
     "text": [
      "[0.5168952345848083, 0.7215563058853149, -1.149840227299137e-05, 0.46420374512672424, 0.700684666633606, 0.018128646537661552, 0.43258416652679443, 0.6446914076805115, 0.004868790972977877, 0.4095574617385864, 0.6015812754631042, -0.02125096134841442, 0.4054037034511566, 0.556306779384613, -0.05126366391777992, 0.4989723563194275, 0.5575747489929199, 0.0377747118473053, 0.45734935998916626, 0.5182756185531616, 0.02206321805715561, 0.4238886535167694, 0.535051167011261, 0.004184015095233917, 0.40648722648620605, 0.5645665526390076, -0.0065672812052071095, 0.5167186856269836, 0.5434503555297852, 0.011584516614675522, 0.4638286232948303, 0.48673588037490845, -0.0005994004313834012, 0.41962286829948425, 0.5080076456069946, -0.014448686502873898, 0.40125489234924316, 0.5461471676826477, -0.024100996553897858, 0.529236912727356, 0.543732762336731, -0.018679561093449593, 0.4721089005470276, 0.4829696714878082, -0.032262224704027176, 0.43103358149528503, 0.5067278146743774, -0.04202132672071457, 0.4148138761520386, 0.5409492254257202, -0.04943707957863808, 0.5312625169754028, 0.5572304725646973, -0.04890773817896843, 0.47161561250686646, 0.5245345830917358, -0.05298615247011185, 0.445499449968338, 0.5498604774475098, -0.05024189502000809, 0.44003623723983765, 0.5804166197776794, -0.05332361161708832]\n"
     ]
    }
   ],
   "metadata": {}
  }
 ],
 "metadata": {
  "orig_nbformat": 4,
  "language_info": {
   "name": "python",
   "version": "3.9.6",
   "mimetype": "text/x-python",
   "codemirror_mode": {
    "name": "ipython",
    "version": 3
   },
   "pygments_lexer": "ipython3",
   "nbconvert_exporter": "python",
   "file_extension": ".py"
  },
  "kernelspec": {
   "name": "python3",
   "display_name": "Python 3.9.6 64-bit ('mediapipe': conda)"
  },
  "interpreter": {
   "hash": "d1b99649446dcff6ecae56c88d2aebcfc77955df397bbf2c49b12cfd2fe7732b"
  }
 },
 "nbformat": 4,
 "nbformat_minor": 2
}