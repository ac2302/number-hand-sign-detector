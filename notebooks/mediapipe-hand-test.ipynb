{
 "cells": [
  {
   "cell_type": "code",
   "execution_count": 1,
   "source": [
    "import mediapipe as mp\n",
    "import numpy as np\n",
    "import cv2"
   ],
   "outputs": [],
   "metadata": {}
  },
  {
   "cell_type": "markdown",
   "source": [
    "# live test"
   ],
   "metadata": {}
  },
  {
   "cell_type": "code",
   "execution_count": 2,
   "source": [
    "mp_drawing = mp.solutions.drawing_utils\n",
    "mp_hands = mp.solutions.hands\n",
    "drawing_styles = mp.solutions.drawing_styles"
   ],
   "outputs": [],
   "metadata": {}
  },
  {
   "cell_type": "code",
   "execution_count": 25,
   "source": [
    "cap = cv2.VideoCapture(1)\n",
    "with mp_hands.Hands(\n",
    "        min_detection_confidence=0.5,\n",
    "        min_tracking_confidence=0.5) as hands:\n",
    "    while cap.isOpened():\n",
    "        success, image = cap.read()\n",
    "        if not success:\n",
    "            print(\"Ignoring empty camera frame.\")\n",
    "            # If loading a video, use 'break' instead of 'continue'.\n",
    "            continue\n",
    "\n",
    "        # Flip the image horizontally for a later selfie-view display, and convert\n",
    "        # the BGR image to RGB.\n",
    "        image = cv2.cvtColor(cv2.flip(image, 1), cv2.COLOR_BGR2RGB)\n",
    "        # To improve performance, optionally mark the image as not writeable to\n",
    "        # pass by reference.\n",
    "        image.flags.writeable = False\n",
    "        results = hands.process(image)\n",
    "\n",
    "        # Draw the hand annotations on the image.\n",
    "        image.flags.writeable = True\n",
    "        image = cv2.cvtColor(image, cv2.COLOR_RGB2BGR)\n",
    "        if results.multi_hand_landmarks:\n",
    "            hand_landmarks = results.multi_hand_landmarks[0]\n",
    "            mp_drawing.draw_landmarks(\n",
    "                image, hand_landmarks, mp_hands.HAND_CONNECTIONS,\n",
    "                drawing_styles.get_default_hand_landmark_style(),\n",
    "                drawing_styles.get_default_hand_connection_style())\n",
    "        cv2.imshow('MediaPipe Hands', image)\n",
    "        if cv2.waitKey(10) & 0xFF == ord('q'):\n",
    "            break\n",
    "cap.release()\n",
    "cv2.destroyAllWindows() \n"
   ],
   "outputs": [],
   "metadata": {}
  },
  {
   "cell_type": "markdown",
   "source": [
    "# displaying row to give to model"
   ],
   "metadata": {}
  },
  {
   "cell_type": "code",
   "execution_count": 29,
   "source": [
    "if results.multi_hand_landmarks: \n",
    "    print(np.array([[i.x, i.y, i.z] for i in results.multi_hand_landmarks[0].landmark]).flatten())"
   ],
   "outputs": [
    {
     "output_type": "stream",
     "name": "stdout",
     "text": [
      "[ 5.26253104e-01  7.19774604e-01 -9.43244158e-05  5.68851590e-01\n",
      "  6.77596450e-01  1.01467613e-02  5.91660500e-01  6.18396819e-01\n",
      " -1.72843970e-02  5.90711415e-01  5.64527512e-01 -4.09690775e-02\n",
      "  5.70824683e-01  5.39984286e-01 -6.41667694e-02  5.79153240e-01\n",
      "  6.07342482e-01 -1.13749631e-01  5.83167493e-01  5.30752242e-01\n",
      " -1.22454196e-01  5.76917708e-01  5.30419827e-01 -1.07114695e-01\n",
      "  5.69644272e-01  5.38201094e-01 -1.01741649e-01  5.40308714e-01\n",
      "  6.04533553e-01 -1.23476371e-01  5.56969285e-01  4.96100157e-01\n",
      " -1.45062521e-01  5.61481297e-01  4.28139091e-01 -1.54444948e-01\n",
      "  5.62267959e-01  3.76473725e-01 -1.72873586e-01  5.01197815e-01\n",
      "  6.08168185e-01 -1.17923714e-01  5.18715203e-01  5.23798704e-01\n",
      " -9.61456671e-02  5.22554219e-01  5.48368990e-01 -5.72037846e-02\n",
      "  5.20948410e-01  5.79544961e-01 -4.85788994e-02  4.66856837e-01\n",
      "  6.15299225e-01 -1.13436870e-01  4.78616744e-01  5.49269319e-01\n",
      " -8.46315697e-02  4.87570763e-01  5.68149388e-01 -5.47332540e-02\n",
      "  4.89809990e-01  5.95291495e-01 -4.73475568e-02]\n"
     ]
    }
   ],
   "metadata": {}
  }
 ],
 "metadata": {
  "orig_nbformat": 4,
  "language_info": {
   "name": "python",
   "version": "3.9.6",
   "mimetype": "text/x-python",
   "codemirror_mode": {
    "name": "ipython",
    "version": 3
   },
   "pygments_lexer": "ipython3",
   "nbconvert_exporter": "python",
   "file_extension": ".py"
  },
  "kernelspec": {
   "name": "python3",
   "display_name": "Python 3.9.6 64-bit ('mediapipe': conda)"
  },
  "interpreter": {
   "hash": "d1b99649446dcff6ecae56c88d2aebcfc77955df397bbf2c49b12cfd2fe7732b"
  }
 },
 "nbformat": 4,
 "nbformat_minor": 2
}