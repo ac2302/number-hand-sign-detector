{
 "cells": [
  {
   "cell_type": "code",
   "execution_count": 6,
   "metadata": {},
   "outputs": [],
   "source": [
    "import mediapipe as mp\n",
    "import numpy as np\n",
    "import cv2"
   ]
  },
  {
   "cell_type": "markdown",
   "metadata": {},
   "source": [
    "# live test"
   ]
  },
  {
   "cell_type": "code",
   "execution_count": 7,
   "metadata": {},
   "outputs": [],
   "source": [
    "mp_drawing = mp.solutions.drawing_utils\n",
    "mp_hands = mp.solutions.hands\n",
    "drawing_styles = mp.solutions.drawing_styles"
   ]
  },
  {
   "cell_type": "code",
   "execution_count": 9,
   "metadata": {},
   "outputs": [],
   "source": [
    "cap = cv2.VideoCapture(0)\n",
    "with mp_hands.Hands(\n",
    "        min_detection_confidence=0.5,\n",
    "        min_tracking_confidence=0.5) as hands:\n",
    "    while cap.isOpened():\n",
    "        success, image = cap.read()\n",
    "        if not success:\n",
    "            print(\"Ignoring empty camera frame.\")\n",
    "            # If loading a video, use 'break' instead of 'continue'.\n",
    "            continue\n",
    "\n",
    "        # Flip the image horizontally for a later selfie-view display, and convert\n",
    "        # the BGR image to RGB.\n",
    "        image = cv2.cvtColor(cv2.flip(image, 1), cv2.COLOR_BGR2RGB)\n",
    "        # To improve performance, optionally mark the image as not writeable to\n",
    "        # pass by reference.\n",
    "        image.flags.writeable = False\n",
    "        results = hands.process(image)\n",
    "\n",
    "        # Draw the hand annotations on the image.\n",
    "        image.flags.writeable = True\n",
    "        image = cv2.cvtColor(image, cv2.COLOR_RGB2BGR)\n",
    "        if results.multi_hand_landmarks:\n",
    "            hand_landmarks = results.multi_hand_landmarks[0]\n",
    "            mp_drawing.draw_landmarks(\n",
    "                image, hand_landmarks, mp_hands.HAND_CONNECTIONS,\n",
    "                drawing_styles.get_default_hand_landmark_style(),\n",
    "                drawing_styles.get_default_hand_connection_style())\n",
    "        cv2.imshow('MediaPipe Hands', image)\n",
    "        if cv2.waitKey(10) & 0xFF == ord('q'):\n",
    "            break\n",
    "cap.release()\n",
    "cv2.destroyAllWindows() \n"
   ]
  },
  {
   "cell_type": "markdown",
   "metadata": {},
   "source": [
    "# displaying row to give to model"
   ]
  },
  {
   "cell_type": "code",
   "execution_count": 5,
   "metadata": {},
   "outputs": [
    {
     "name": "stdout",
     "output_type": "stream",
     "text": [
      "[0.6876123547554016, 0.7396292686462402, -5.929980761720799e-05, 0.6265035271644592, 0.720326840877533, -0.0708915963768959, 0.5795630216598511, 0.6727816462516785, -0.11363783478736877, 0.5581926703453064, 0.6179183125495911, -0.15083691477775574, 0.5510745644569397, 0.5674365162849426, -0.1837902069091797, 0.6169184446334839, 0.5466794371604919, -0.06896708905696869, 0.5997746586799622, 0.4850611090660095, -0.10554364323616028, 0.5952044129371643, 0.44538313150405884, -0.1359594315290451, 0.5931466817855835, 0.4151188135147095, -0.15796296298503876, 0.6602029204368591, 0.527864396572113, -0.06080055609345436, 0.6543245315551758, 0.45128872990608215, -0.07733484357595444, 0.652271032333374, 0.40263640880584717, -0.10325402766466141, 0.6525213122367859, 0.3568621575832367, -0.12534557282924652, 0.7027280926704407, 0.5344563126564026, -0.05989700183272362, 0.7130621075630188, 0.45606499910354614, -0.07977114617824554, 0.7232487201690674, 0.404896080493927, -0.1101163849234581, 0.7303910255432129, 0.35562485456466675, -0.13536351919174194, 0.7461158633232117, 0.5629303455352783, -0.06613240391016006, 0.7757880091667175, 0.5084095597267151, -0.09032102674245834, 0.7986335158348083, 0.4717676639556885, -0.1124299168586731, 0.8171719312667847, 0.4326760470867157, -0.13162878155708313]\n"
     ]
    }
   ],
   "source": [
    "if results.multi_hand_landmarks: \n",
    "    print(list(np.array([[i.x, i.y, i.z] for i in results.multi_hand_landmarks[0].landmark]).flatten()))"
   ]
  }
 ],
 "metadata": {
  "interpreter": {
   "hash": "d1b99649446dcff6ecae56c88d2aebcfc77955df397bbf2c49b12cfd2fe7732b"
  },
  "kernelspec": {
   "display_name": "Python 3",
   "language": "python",
   "name": "python3"
  },
  "language_info": {
   "codemirror_mode": {
    "name": "ipython",
    "version": 3
   },
   "file_extension": ".py",
   "mimetype": "text/x-python",
   "name": "python",
   "nbconvert_exporter": "python",
   "pygments_lexer": "ipython3",
   "version": "3.9.6"
  }
 },
 "nbformat": 4,
 "nbformat_minor": 4
}
