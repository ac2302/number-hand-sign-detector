{
 "cells": [
  {
   "cell_type": "code",
   "execution_count": 1,
   "metadata": {},
   "outputs": [],
   "source": [
    "import mediapipe as mp\n",
    "import numpy as np\n",
    "import cv2"
   ]
  },
  {
   "cell_type": "markdown",
   "metadata": {},
   "source": [
    "# live test"
   ]
  },
  {
   "cell_type": "code",
   "execution_count": 2,
   "metadata": {},
   "outputs": [],
   "source": [
    "mp_drawing = mp.solutions.drawing_utils\n",
    "mp_hands = mp.solutions.hands\n",
    "drawing_styles = mp.solutions.drawing_styles"
   ]
  },
  {
   "cell_type": "code",
   "execution_count": 3,
   "metadata": {},
   "outputs": [],
   "source": [
    "cap = cv2.VideoCapture(0)\n",
    "with mp_hands.Hands(\n",
    "        min_detection_confidence=0.5,\n",
    "        min_tracking_confidence=0.5) as hands:\n",
    "    while cap.isOpened():\n",
    "        success, image = cap.read()\n",
    "        if not success:\n",
    "            print(\"Ignoring empty camera frame.\")\n",
    "            # If loading a video, use 'break' instead of 'continue'.\n",
    "            continue\n",
    "\n",
    "        # Flip the image horizontally for a later selfie-view display, and convert\n",
    "        # the BGR image to RGB.\n",
    "        image = cv2.cvtColor(cv2.flip(image, 1), cv2.COLOR_BGR2RGB)\n",
    "        # To improve performance, optionally mark the image as not writeable to\n",
    "        # pass by reference.\n",
    "        image.flags.writeable = False\n",
    "        results = hands.process(image)\n",
    "\n",
    "        # Draw the hand annotations on the image.\n",
    "        image.flags.writeable = True\n",
    "        image = cv2.cvtColor(image, cv2.COLOR_RGB2BGR)\n",
    "        if results.multi_hand_landmarks:\n",
    "            hand_landmarks = results.multi_hand_landmarks[0]\n",
    "            mp_drawing.draw_landmarks(\n",
    "                image, hand_landmarks, mp_hands.HAND_CONNECTIONS,\n",
    "                drawing_styles.get_default_hand_landmark_style(),\n",
    "                drawing_styles.get_default_hand_connection_style())\n",
    "        cv2.imshow('MediaPipe Hands', image)\n",
    "        if cv2.waitKey(10) & 0xFF == ord('q'):\n",
    "            break\n",
    "cap.release()\n",
    "cv2.destroyAllWindows() \n"
   ]
  },
  {
   "cell_type": "markdown",
   "metadata": {},
   "source": [
    "# displaying row to give to model"
   ]
  },
  {
   "cell_type": "code",
   "execution_count": 4,
   "metadata": {},
   "outputs": [
    {
     "name": "stdout",
     "output_type": "stream",
     "text": [
      "[0.2899707555770874, 0.623214840888977, -4.7757035645190626e-05, 0.31237953901290894, 0.7153491377830505, -0.037649888545274734, 0.3498535454273224, 0.7968496680259705, -0.06055755540728569, 0.38622331619262695, 0.8596082925796509, -0.08458871394395828, 0.40881669521331787, 0.9160380959510803, -0.10503952205181122, 0.4087427854537964, 0.7237303256988525, -0.00813301932066679, 0.4554291069507599, 0.7333879470825195, -0.059235043823719025, 0.4174449145793915, 0.7270806431770325, -0.08697157353162766, 0.3895605504512787, 0.7236480116844177, -0.09210355579853058, 0.4093826115131378, 0.6614219546318054, -0.008001383394002914, 0.4526161253452301, 0.6613206267356873, -0.07676459848880768, 0.40360531210899353, 0.6630332469940186, -0.09789354354143143, 0.379622220993042, 0.6666077971458435, -0.08753327280282974, 0.4050154387950897, 0.5996506810188293, -0.01671062968671322, 0.44655442237854004, 0.5939735770225525, -0.07296755909919739, 0.4007263481616974, 0.6067907810211182, -0.08161744475364685, 0.3739211857318878, 0.615039587020874, -0.06889373064041138, 0.39516112208366394, 0.5347766876220703, -0.02884889952838421, 0.434824138879776, 0.5284351110458374, -0.05770568922162056, 0.4087372124195099, 0.5482048988342285, -0.06753454357385635, 0.38530781865119934, 0.5623190999031067, -0.06037158891558647]\n"
     ]
    }
   ],
   "source": [
    "if results.multi_hand_landmarks: \n",
    "    print(list(np.array([[i.x, i.y, i.z] for i in results.multi_hand_landmarks[0].landmark]).flatten()))"
   ]
  }
 ],
 "metadata": {
  "interpreter": {
   "hash": "d1b99649446dcff6ecae56c88d2aebcfc77955df397bbf2c49b12cfd2fe7732b"
  },
  "kernelspec": {
   "display_name": "Python 3",
   "language": "python",
   "name": "python3"
  },
  "language_info": {
   "codemirror_mode": {
    "name": "ipython",
    "version": 3
   },
   "file_extension": ".py",
   "mimetype": "text/x-python",
   "name": "python",
   "nbconvert_exporter": "python",
   "pygments_lexer": "ipython3",
   "version": "3.9.6"
  }
 },
 "nbformat": 4,
 "nbformat_minor": 4
}
